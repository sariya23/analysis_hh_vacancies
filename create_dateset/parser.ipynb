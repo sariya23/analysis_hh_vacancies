{
 "cells": [
  {
   "cell_type": "code",
   "execution_count": 57,
   "id": "b28dd2ad-b7df-467f-90fc-8ef065fb8a4a",
   "metadata": {},
   "outputs": [],
   "source": [
    "import pandas as pd\n",
    "import csv\n",
    "import requests\n",
    "from typing import Any\n",
    "from datetime import datetime"
   ]
  },
  {
   "cell_type": "code",
   "execution_count": 74,
   "id": "25be0e3e-d85c-4844-a625-1115401a32cd",
   "metadata": {},
   "outputs": [],
   "source": [
    "def get_vacancies(params, programming_language: str=\"Python\") -> None:\n",
    "    url = \"https://api.hh.ru/vacancies\"\n",
    "    headers = {\n",
    "        \"User-Agent\": \"Your User Agent\",\n",
    "    }\n",
    "\n",
    "    response = requests.get(url, params=params, headers=headers)\n",
    "    result = []\n",
    "    if response.status_code == 200:\n",
    "        data = response.json()\n",
    "        vacancies = data.get(\"items\", [])\n",
    "        for vacancy in vacancies:\n",
    "            vacancy_id = vacancy.get(\"id\")\n",
    "            vacancy_title = vacancy.get(\"name\")\n",
    "            vacancy_url = vacancy.get(\"alternate_url\")\n",
    "            company_name = vacancy.get(\"employer\", {}).get(\"name\")\n",
    "            city = vacancy.get(\"area\").get(\"name\")\n",
    "            published_datetime = vacancy.get(\"published_at\")\n",
    "            published_date = datetime.fromisoformat(published_datetime).date()\n",
    "            salary_field: None | dict[str, Any ] = vacancy[\"salary\"]\n",
    "            \n",
    "            if salary_field is not None:\n",
    "                salary_from, salary_to = salary_field[\"from\"], salary_field[\"to\"]\n",
    "                salary = salary_to or salary_from\n",
    "            else:\n",
    "                salary = None\n",
    "            \n",
    "            result.append(\n",
    "                [vacancy_id, vacancy_title, company_name, salary, city, published_date, programming_language, vacancy_url]\n",
    "            )\n",
    "        return result\n",
    "    else:\n",
    "        raise \n"
   ]
  },
  {
   "cell_type": "code",
   "execution_count": 75,
   "id": "90792855-e625-4f4d-8423-3e298ea79b4a",
   "metadata": {},
   "outputs": [],
   "source": [
    "def init_csv_file_with_fields(file_name: str, fileds: list[str]) -> None:\n",
    "    with open(f\"{file_name}.csv\", \"w\", newline='') as f:\n",
    "        writer = csv.writer(f)\n",
    "        writer.writerow(fileds)"
   ]
  },
  {
   "cell_type": "code",
   "execution_count": 76,
   "id": "9f0d0bca-c77c-42d2-a391-053909049797",
   "metadata": {},
   "outputs": [],
   "source": [
    "def add_csv_row(file_name: str, row: list[str]) -> None:\n",
    "    with open(f\"{file_name}.csv\", \"a\", newline='') as f:\n",
    "        writer = csv.writer(f)\n",
    "        writer.writerow(row)"
   ]
  },
  {
   "cell_type": "code",
   "execution_count": 92,
   "id": "f06e263f-935e-4e41-8c94-a502a7bf2f8b",
   "metadata": {},
   "outputs": [],
   "source": [
    "params_python = {\n",
    "    \"text\": \"python junior\",\n",
    "    \"search_field\": [\"name\", \"description\"],\n",
    "    \"area\": 113,\n",
    "    \"per_page\": 100, \n",
    "    \"experience\": \"noExperience\",\n",
    "    \"currency\": \"RUR\",\n",
    "    \"date_from\": \"2024-03-01\",\n",
    "}"
   ]
  },
  {
   "cell_type": "code",
   "execution_count": 93,
   "id": "caacee9c-632c-4a88-9793-b5bba85e352b",
   "metadata": {},
   "outputs": [],
   "source": [
    "params_go = {\n",
    "    \"text\": \"go junior\",\n",
    "    \"search_field\": [\"name\", \"description\"],\n",
    "    \"area\": 113,\n",
    "    \"per_page\": 100, \n",
    "    \"experience\": \"noExperience\",\n",
    "    \"currency\": \"RUR\",\n",
    "    \"date_from\": \"2024-03-01\",\n",
    "}"
   ]
  },
  {
   "cell_type": "code",
   "execution_count": 94,
   "id": "3fdf42b9-a5bb-4c2f-b8a1-640cf7ac82f8",
   "metadata": {},
   "outputs": [],
   "source": [
    "params_java = {\n",
    "    \"text\": \"java junior\",\n",
    "    \"search_field\": [\"name\", \"description\"],\n",
    "    \"area\": 113,\n",
    "    \"per_page\": 100, \n",
    "    \"experience\": \"noExperience\",\n",
    "    \"currency\": \"RUR\",\n",
    "    \"date_from\": \"2024-03-01\",\n",
    "}"
   ]
  },
  {
   "cell_type": "code",
   "execution_count": 95,
   "id": "a13fdca6-b7b6-4274-81f8-77e34a137bd5",
   "metadata": {},
   "outputs": [],
   "source": [
    "params_cpp = {\n",
    "    \"text\": \"c++ junior\",\n",
    "    \"search_field\": [\"name\", \"description\"],\n",
    "    \"area\": 113,\n",
    "    \"per_page\": 100, \n",
    "    \"experience\": \"noExperience\",\n",
    "    \"currency\": \"RUR\",\n",
    "    \"date_from\": \"2024-03-01\",\n",
    "}"
   ]
  },
  {
   "cell_type": "code",
   "execution_count": 96,
   "id": "9e16396b-8bf7-466c-b1e1-2d3cac06387c",
   "metadata": {},
   "outputs": [],
   "source": [
    "params_js = {\n",
    "    \"text\": \"js junior\",\n",
    "    \"search_field\": [\"name\", \"description\"],\n",
    "    \"area\": 113,\n",
    "    \"per_page\": 100, \n",
    "    \"experience\": \"noExperience\",\n",
    "    \"currency\": \"RUR\",\n",
    "    \"date_from\": \"2024-03-01\",\n",
    "}"
   ]
  },
  {
   "cell_type": "code",
   "execution_count": 97,
   "id": "b100d210-483a-4d6c-9577-051db69bc487",
   "metadata": {},
   "outputs": [],
   "source": [
    "params_c_sharp = {\n",
    "    \"text\": \"c# junior\",\n",
    "    \"search_field\": [\"name\", \"description\"],\n",
    "    \"area\": 113,\n",
    "    \"per_page\": 100, \n",
    "    \"experience\": \"noExperience\",\n",
    "    \"currency\": \"RUR\",\n",
    "    \"date_from\": \"2024-03-01\",\n",
    "}"
   ]
  },
  {
   "cell_type": "code",
   "execution_count": 98,
   "id": "88c937ea-c5da-4910-a491-e6a6ed6ae52c",
   "metadata": {},
   "outputs": [],
   "source": [
    "params_r = {\n",
    "    \"text\": \"R junior\",\n",
    "    \"search_field\": [\"name\", \"description\"],\n",
    "    \"area\": 113,\n",
    "    \"per_page\": 100, \n",
    "    \"experience\": \"noExperience\",\n",
    "    \"currency\": \"RUR\",\n",
    "    \"date_from\": \"2024-03-01\",\n",
    "}"
   ]
  },
  {
   "cell_type": "code",
   "execution_count": 99,
   "id": "155fbdc3-7812-4fb0-bd91-aa0a9b658185",
   "metadata": {},
   "outputs": [],
   "source": [
    "params_rust = {\n",
    "    \"text\": \"rust junior\",\n",
    "    \"search_field\": [\"name\", \"description\"],\n",
    "    \"area\": 113,\n",
    "    \"per_page\": 100, \n",
    "    \"experience\": \"noExperience\",\n",
    "    \"currency\": \"RUR\",\n",
    "    \"date_from\": \"2024-03-01\",\n",
    "}"
   ]
  },
  {
   "cell_type": "code",
   "execution_count": 100,
   "id": "7c1b03c5-d81f-49d8-a769-ff8a6f6e1f98",
   "metadata": {},
   "outputs": [],
   "source": [
    "params_php = {\n",
    "    \"text\": \"php junior\",\n",
    "    \"search_field\": [\"name\", \"description\"],\n",
    "    \"area\": 113,\n",
    "    \"per_page\": 100, \n",
    "    \"experience\": \"noExperience\",\n",
    "    \"currency\": \"RUR\",\n",
    "    \"date_from\": \"2024-03-01\",\n",
    "}"
   ]
  },
  {
   "cell_type": "code",
   "execution_count": 101,
   "id": "9346269f-ea30-48b5-8e02-3f40c13b7012",
   "metadata": {},
   "outputs": [],
   "source": [
    "params_1c = {\n",
    "    \"text\": \"1c junior\",\n",
    "    \"search_field\": [\"name\", \"description\"],\n",
    "    \"area\": 113,\n",
    "    \"per_page\": 100, \n",
    "    \"experience\": \"noExperience\",\n",
    "    \"currency\": \"RUR\",\n",
    "    \"date_from\": \"2024-03-01\",\n",
    "}"
   ]
  },
  {
   "cell_type": "code",
   "execution_count": 102,
   "id": "dc8994ea-cc91-4844-964d-6088a02d0cb2",
   "metadata": {
    "scrolled": true
   },
   "outputs": [],
   "source": [
    "res = []"
   ]
  },
  {
   "cell_type": "code",
   "execution_count": 103,
   "id": "e8c4cb38-e647-46b6-9631-850fbe6272b3",
   "metadata": {},
   "outputs": [],
   "source": [
    "params_prog_lang = (\n",
    "    [params_python, \"Python\"],\n",
    "    [params_go, \"GO\"],\n",
    "    [params_java, \"Java\"],\n",
    "    [params_cpp, \"C++\"],\n",
    "    [params_js, \"JS\"],\n",
    "    [params_c_sharp, \"C#\"],\n",
    "    [params_r, \"R\"],\n",
    "    [params_rust, \"Rust\"],\n",
    "    [params_php, \"PHP\"],\n",
    "    [params_1c, \"1C\"],\n",
    ")"
   ]
  },
  {
   "cell_type": "code",
   "execution_count": 104,
   "id": "a9223867-aa11-4b56-942b-b4e6b4575129",
   "metadata": {},
   "outputs": [],
   "source": [
    "for params, prog_lang in params_prog_lang:\n",
    "    res += get_vacancies(params, prog_lang)"
   ]
  },
  {
   "cell_type": "code",
   "execution_count": 105,
   "id": "1bb12fb3-80e2-41d0-bd81-566b11e1ef84",
   "metadata": {},
   "outputs": [],
   "source": [
    "init_csv_file_with_fields(\"dataset\", [\"ID\", \"VACANCY_TITLE\", \"COMPANY_NAME\", \"SALARY\", \"CITY\", \"DATE\", \"PROGRAMMING_LANGUAGE\", \"VACANCY_URL\"])"
   ]
  },
  {
   "cell_type": "code",
   "execution_count": 106,
   "id": "0562cd9a-48f4-441b-a029-3df440e81cec",
   "metadata": {},
   "outputs": [],
   "source": [
    "for i in res:\n",
    "    add_csv_row(\"dataset\", i)"
   ]
  },
  {
   "cell_type": "code",
   "execution_count": null,
   "id": "4aee4ea6-ec6f-473b-a094-cdcae5c96344",
   "metadata": {},
   "outputs": [],
   "source": []
  }
 ],
 "metadata": {
  "kernelspec": {
   "display_name": "Python 3 (ipykernel)",
   "language": "python",
   "name": "python3"
  },
  "language_info": {
   "codemirror_mode": {
    "name": "ipython",
    "version": 3
   },
   "file_extension": ".py",
   "mimetype": "text/x-python",
   "name": "python",
   "nbconvert_exporter": "python",
   "pygments_lexer": "ipython3",
   "version": "3.11.2"
  }
 },
 "nbformat": 4,
 "nbformat_minor": 5
}
