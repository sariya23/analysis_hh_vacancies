{
 "cells": [
  {
   "cell_type": "code",
   "execution_count": 93,
   "id": "b28dd2ad-b7df-467f-90fc-8ef065fb8a4a",
   "metadata": {},
   "outputs": [],
   "source": [
    "import pandas as pd\n",
    "import csv\n",
    "import requests\n",
    "from typing import Any\n",
    "from datetime import datetime\n",
    "from bs4 import BeautifulSoup\n",
    "import dataclasses"
   ]
  },
  {
   "cell_type": "code",
   "execution_count": 99,
   "id": "d800c8c4-3790-41e7-a643-85d1da559667",
   "metadata": {},
   "outputs": [],
   "source": [
    "@dataclasses.dataclass\n",
    "class Vacancy:\n",
    "    vacancy_id: int\n",
    "    vacancy_title: str\n",
    "    company_name: str\n",
    "    salary: float\n",
    "    city: str\n",
    "    published_date: datetime\n",
    "    programming_language: str\n",
    "    vacancy_url: str"
   ]
  },
  {
   "cell_type": "code",
   "execution_count": 101,
   "id": "25be0e3e-d85c-4844-a625-1115401a32cd",
   "metadata": {},
   "outputs": [],
   "source": [
    "def get_vacancies(params: dict[str, Any], programming_language: str=\"Python\") -> list[Vacancy]:\n",
    "    url = \"https://api.hh.ru/vacancies\"\n",
    "    headers = {\n",
    "        \"User-Agent\": \"Your User Agent\",\n",
    "    }\n",
    "\n",
    "    response = requests.get(url, params=params, headers=headers)\n",
    "    result = []\n",
    "    if response.status_code == 200:\n",
    "        data = response.json()\n",
    "        vacancies = data.get(\"items\", [])\n",
    "        for vacancy in vacancies:\n",
    "            vacancy_id = vacancy.get(\"id\")\n",
    "            vacancy_title = vacancy.get(\"name\")\n",
    "            vacancy_url = vacancy.get(\"alternate_url\")\n",
    "            company_name = vacancy.get(\"employer\", {}).get(\"name\")\n",
    "            city = vacancy.get(\"area\").get(\"name\")\n",
    "            published_datetime = vacancy.get(\"published_at\")\n",
    "            published_date = datetime.fromisoformat(published_datetime).date()\n",
    "            salary_field: None | dict[str, Any ] = vacancy[\"salary\"]\n",
    "            \n",
    "            if salary_field is not None:\n",
    "                salary_from, salary_to = salary_field[\"from\"], salary_field[\"to\"]\n",
    "                salary = salary_to or salary_from\n",
    "            else:\n",
    "                salary = None\n",
    "            \n",
    "            result.append(\n",
    "                Vacancy(\n",
    "                    vacancy_id = vacancy_id,\n",
    "                    vacancy_title= vacancy_title,\n",
    "                    company_name = company_name,\n",
    "                    salary = salary,\n",
    "                    city = city,\n",
    "                    published_date = published_date,\n",
    "                    programming_language = programming_language,\n",
    "                    vacancy_url = vacancy_url,\n",
    "                )\n",
    "            )\n",
    "        return result\n",
    "    else:\n",
    "        raise \n"
   ]
  },
  {
   "cell_type": "code",
   "execution_count": 102,
   "id": "90792855-e625-4f4d-8423-3e298ea79b4a",
   "metadata": {},
   "outputs": [],
   "source": [
    "def init_csv_file_with_fields(file_name: str, fileds: list[str]) -> None:\n",
    "    with open(f\"{file_name}.csv\", \"w\", newline='') as f:\n",
    "        writer = csv.writer(f)\n",
    "        writer.writerow(fileds)"
   ]
  },
  {
   "cell_type": "code",
   "execution_count": 103,
   "id": "9f0d0bca-c77c-42d2-a391-053909049797",
   "metadata": {},
   "outputs": [],
   "source": [
    "def add_csv_row(file_name: str, row: list[str]) -> None:\n",
    "    with open(f\"{file_name}.csv\", \"a\", newline='') as f:\n",
    "        writer = csv.writer(f)\n",
    "        writer.writerow(row)"
   ]
  },
  {
   "cell_type": "code",
   "execution_count": 104,
   "id": "f06e263f-935e-4e41-8c94-a502a7bf2f8b",
   "metadata": {},
   "outputs": [],
   "source": [
    "params_python = {\n",
    "    \"text\": \"python junior\",\n",
    "    \"search_field\": [\"name\", \"description\"],\n",
    "    \"area\": 113,\n",
    "    \"per_page\": 100, \n",
    "    \"experience\": \"noExperience\",\n",
    "    \"currency\": \"RUR\",\n",
    "    \"date_from\": \"2024-02-15\",\n",
    "}"
   ]
  },
  {
   "cell_type": "code",
   "execution_count": 105,
   "id": "caacee9c-632c-4a88-9793-b5bba85e352b",
   "metadata": {},
   "outputs": [],
   "source": [
    "params_go = {\n",
    "    \"text\": \"go junior\",\n",
    "    \"search_field\": [\"name\", \"description\"],\n",
    "    \"area\": 113,\n",
    "    \"per_page\": 100, \n",
    "    \"experience\": \"noExperience\",\n",
    "    \"currency\": \"RUR\",\n",
    "    \"date_from\": \"2024-02-15\",\n",
    "}"
   ]
  },
  {
   "cell_type": "code",
   "execution_count": 106,
   "id": "3fdf42b9-a5bb-4c2f-b8a1-640cf7ac82f8",
   "metadata": {},
   "outputs": [],
   "source": [
    "params_java = {\n",
    "    \"text\": \"java junior\",\n",
    "    \"search_field\": [\"name\", \"description\"],\n",
    "    \"area\": 113,\n",
    "    \"per_page\": 100, \n",
    "    \"experience\": \"noExperience\",\n",
    "    \"currency\": \"RUR\",\n",
    "    \"date_from\": \"2024-02-15\",\n",
    "}"
   ]
  },
  {
   "cell_type": "code",
   "execution_count": 107,
   "id": "a13fdca6-b7b6-4274-81f8-77e34a137bd5",
   "metadata": {},
   "outputs": [],
   "source": [
    "params_cpp = {\n",
    "    \"text\": \"c++ junior\",\n",
    "    \"search_field\": [\"name\", \"description\"],\n",
    "    \"area\": 113,\n",
    "    \"per_page\": 100, \n",
    "    \"experience\": \"noExperience\",\n",
    "    \"currency\": \"RUR\",\n",
    "    \"date_from\": \"2024-02-15\",\n",
    "}"
   ]
  },
  {
   "cell_type": "code",
   "execution_count": 108,
   "id": "9e16396b-8bf7-466c-b1e1-2d3cac06387c",
   "metadata": {},
   "outputs": [],
   "source": [
    "params_js = {\n",
    "    \"text\": \"js junior\",\n",
    "    \"search_field\": [\"name\", \"description\"],\n",
    "    \"area\": 113,\n",
    "    \"per_page\": 100, \n",
    "    \"experience\": \"noExperience\",\n",
    "    \"currency\": \"RUR\",\n",
    "    \"date_from\": \"2024-02-15\",\n",
    "}"
   ]
  },
  {
   "cell_type": "code",
   "execution_count": 109,
   "id": "b100d210-483a-4d6c-9577-051db69bc487",
   "metadata": {},
   "outputs": [],
   "source": [
    "params_c_sharp = {\n",
    "    \"text\": \"c# junior\",\n",
    "    \"search_field\": [\"name\", \"description\"],\n",
    "    \"area\": 113,\n",
    "    \"per_page\": 100, \n",
    "    \"experience\": \"noExperience\",\n",
    "    \"currency\": \"RUR\",\n",
    "    \"date_from\": \"2024-02-15\",\n",
    "}"
   ]
  },
  {
   "cell_type": "code",
   "execution_count": 110,
   "id": "88c937ea-c5da-4910-a491-e6a6ed6ae52c",
   "metadata": {},
   "outputs": [],
   "source": [
    "params_r = {\n",
    "    \"text\": \"R junior\",\n",
    "    \"search_field\": [\"name\", \"description\"],\n",
    "    \"area\": 113,\n",
    "    \"per_page\": 100, \n",
    "    \"experience\": \"noExperience\",\n",
    "    \"currency\": \"RUR\",\n",
    "    \"date_from\": \"2024-02-15\",\n",
    "}"
   ]
  },
  {
   "cell_type": "code",
   "execution_count": 111,
   "id": "155fbdc3-7812-4fb0-bd91-aa0a9b658185",
   "metadata": {},
   "outputs": [],
   "source": [
    "params_rust = {\n",
    "    \"text\": \"rust junior\",\n",
    "    \"search_field\": [\"name\", \"description\"],\n",
    "    \"area\": 113,\n",
    "    \"per_page\": 100, \n",
    "    \"experience\": \"noExperience\",\n",
    "    \"currency\": \"RUR\",\n",
    "    \"date_from\": \"2024-02-15\",\n",
    "}"
   ]
  },
  {
   "cell_type": "code",
   "execution_count": 112,
   "id": "7c1b03c5-d81f-49d8-a769-ff8a6f6e1f98",
   "metadata": {},
   "outputs": [],
   "source": [
    "params_php = {\n",
    "    \"text\": \"php junior\",\n",
    "    \"search_field\": [\"name\", \"description\"],\n",
    "    \"area\": 113,\n",
    "    \"per_page\": 100, \n",
    "    \"experience\": \"noExperience\",\n",
    "    \"currency\": \"RUR\",\n",
    "    \"date_from\": \"2024-02-15\",\n",
    "}"
   ]
  },
  {
   "cell_type": "code",
   "execution_count": 113,
   "id": "9346269f-ea30-48b5-8e02-3f40c13b7012",
   "metadata": {},
   "outputs": [],
   "source": [
    "params_1c = {\n",
    "    \"text\": \"1c junior\",\n",
    "    \"search_field\": [\"name\", \"description\"],\n",
    "    \"area\": 113,\n",
    "    \"per_page\": 100, \n",
    "    \"experience\": \"noExperience\",\n",
    "    \"currency\": \"RUR\",\n",
    "    \"date_from\": \"2024-02-15\",\n",
    "}"
   ]
  },
  {
   "cell_type": "code",
   "execution_count": 114,
   "id": "dc8994ea-cc91-4844-964d-6088a02d0cb2",
   "metadata": {
    "scrolled": true
   },
   "outputs": [],
   "source": [
    "res = []"
   ]
  },
  {
   "cell_type": "code",
   "execution_count": 115,
   "id": "e8c4cb38-e647-46b6-9631-850fbe6272b3",
   "metadata": {},
   "outputs": [],
   "source": [
    "params_prog_lang = (\n",
    "    [params_python, \"Python\"],\n",
    "    [params_go, \"GO\"],\n",
    "    [params_java, \"Java\"],\n",
    "    [params_cpp, \"C++\"],\n",
    "    [params_js, \"JS\"],\n",
    "    [params_c_sharp, \"C#\"],\n",
    "    [params_r, \"R\"],\n",
    "    [params_rust, \"Rust\"],\n",
    "    [params_php, \"PHP\"],\n",
    "    [params_1c, \"1C\"],\n",
    ")"
   ]
  },
  {
   "cell_type": "code",
   "execution_count": 116,
   "id": "a9223867-aa11-4b56-942b-b4e6b4575129",
   "metadata": {},
   "outputs": [],
   "source": [
    "for params, prog_lang in params_prog_lang:\n",
    "    res += get_vacancies(params, prog_lang)"
   ]
  },
  {
   "cell_type": "code",
   "execution_count": 135,
   "id": "c47e08d0-0bb6-43b3-8fdf-6459e637cdf0",
   "metadata": {},
   "outputs": [
    {
     "name": "stdout",
     "output_type": "stream",
     "text": [
      "534\n"
     ]
    }
   ],
   "source": [
    "print(len(res))"
   ]
  },
  {
   "cell_type": "code",
   "execution_count": 117,
   "id": "1bb12fb3-80e2-41d0-bd81-566b11e1ef84",
   "metadata": {},
   "outputs": [],
   "source": [
    "init_csv_file_with_fields(\"dataset\", [\"ID\", \"VACANCY_TITLE\", \"COMPANY_NAME\", \"SALARY\", \"CITY\", \"DATE\", \"PROGRAMMING_LANGUAGE\", \"VACANCY_URL\"])"
   ]
  },
  {
   "cell_type": "code",
   "execution_count": 126,
   "id": "78e451df-a322-448b-b20b-647328af68b3",
   "metadata": {},
   "outputs": [],
   "source": [
    "v = Vacancy(123, 'qeqwe', 'qwe', 123, 'qwedasdasd', '2200', 'qwe', \"https\")"
   ]
  },
  {
   "cell_type": "code",
   "execution_count": 119,
   "id": "0562cd9a-48f4-441b-a029-3df440e81cec",
   "metadata": {},
   "outputs": [
    {
     "ename": "KeyError",
     "evalue": "Field(name='vacancy_id',type=<class 'int'>,default=<dataclasses._MISSING_TYPE object at 0x7f87b3379c50>,default_factory=<dataclasses._MISSING_TYPE object at 0x7f87b3379c50>,init=True,repr=True,hash=None,compare=True,metadata=mappingproxy({}),kw_only=False,_field_type=_FIELD)",
     "output_type": "error",
     "traceback": [
      "\u001b[0;31m---------------------------------------------------------------------------\u001b[0m",
      "\u001b[0;31mKeyError\u001b[0m                                  Traceback (most recent call last)",
      "Cell \u001b[0;32mIn[119], line 2\u001b[0m\n\u001b[1;32m      1\u001b[0m \u001b[38;5;28;01mfor\u001b[39;00m vacancy \u001b[38;5;129;01min\u001b[39;00m res:\n\u001b[0;32m----> 2\u001b[0m     add_csv_row(\u001b[38;5;124m\"\u001b[39m\u001b[38;5;124mdataset\u001b[39m\u001b[38;5;124m\"\u001b[39m, \u001b[43m[\u001b[49m\u001b[43mvacancy\u001b[49m\u001b[38;5;241;43m.\u001b[39;49m\u001b[38;5;18;43m__dict__\u001b[39;49m\u001b[43m[\u001b[49m\u001b[43mfield\u001b[49m\u001b[43m]\u001b[49m\u001b[43m \u001b[49m\u001b[38;5;28;43;01mfor\u001b[39;49;00m\u001b[43m \u001b[49m\u001b[43mfield\u001b[49m\u001b[43m \u001b[49m\u001b[38;5;129;43;01min\u001b[39;49;00m\u001b[43m \u001b[49m\u001b[43mdataclasses\u001b[49m\u001b[38;5;241;43m.\u001b[39;49m\u001b[43mfields\u001b[49m\u001b[43m(\u001b[49m\u001b[43mVacancy\u001b[49m\u001b[43m)\u001b[49m\u001b[43m]\u001b[49m)\n",
      "Cell \u001b[0;32mIn[119], line 2\u001b[0m, in \u001b[0;36m<listcomp>\u001b[0;34m(.0)\u001b[0m\n\u001b[1;32m      1\u001b[0m \u001b[38;5;28;01mfor\u001b[39;00m vacancy \u001b[38;5;129;01min\u001b[39;00m res:\n\u001b[0;32m----> 2\u001b[0m     add_csv_row(\u001b[38;5;124m\"\u001b[39m\u001b[38;5;124mdataset\u001b[39m\u001b[38;5;124m\"\u001b[39m, [\u001b[43mvacancy\u001b[49m\u001b[38;5;241;43m.\u001b[39;49m\u001b[38;5;18;43m__dict__\u001b[39;49m\u001b[43m[\u001b[49m\u001b[43mfield\u001b[49m\u001b[43m]\u001b[49m \u001b[38;5;28;01mfor\u001b[39;00m field \u001b[38;5;129;01min\u001b[39;00m dataclasses\u001b[38;5;241m.\u001b[39mfields(Vacancy)])\n",
      "\u001b[0;31mKeyError\u001b[0m: Field(name='vacancy_id',type=<class 'int'>,default=<dataclasses._MISSING_TYPE object at 0x7f87b3379c50>,default_factory=<dataclasses._MISSING_TYPE object at 0x7f87b3379c50>,init=True,repr=True,hash=None,compare=True,metadata=mappingproxy({}),kw_only=False,_field_type=_FIELD)"
     ]
    }
   ],
   "source": [
    "for vacancy in res:\n",
    "    add_csv_row(\"dataset\", [vacancy.__dict__[field] for field in dataclasses.fields(Vacancy)])"
   ]
  },
  {
   "cell_type": "code",
   "execution_count": 131,
   "id": "4aee4ea6-ec6f-473b-a094-cdcae5c96344",
   "metadata": {},
   "outputs": [
    {
     "name": "stdout",
     "output_type": "stream",
     "text": [
      "Field(name='vacancy_id',type=<class 'int'>,default=<dataclasses._MISSING_TYPE object at 0x7f87b3379c50>,default_factory=<dataclasses._MISSING_TYPE object at 0x7f87b3379c50>,init=True,repr=True,hash=None,compare=True,metadata=mappingproxy({}),kw_only=False,_field_type=_FIELD) \n",
      "\n",
      "Field(name='vacancy_title',type=<class 'str'>,default=<dataclasses._MISSING_TYPE object at 0x7f87b3379c50>,default_factory=<dataclasses._MISSING_TYPE object at 0x7f87b3379c50>,init=True,repr=True,hash=None,compare=True,metadata=mappingproxy({}),kw_only=False,_field_type=_FIELD) \n",
      "\n",
      "Field(name='company_name',type=<class 'str'>,default=<dataclasses._MISSING_TYPE object at 0x7f87b3379c50>,default_factory=<dataclasses._MISSING_TYPE object at 0x7f87b3379c50>,init=True,repr=True,hash=None,compare=True,metadata=mappingproxy({}),kw_only=False,_field_type=_FIELD) \n",
      "\n",
      "Field(name='salary',type=<class 'float'>,default=<dataclasses._MISSING_TYPE object at 0x7f87b3379c50>,default_factory=<dataclasses._MISSING_TYPE object at 0x7f87b3379c50>,init=True,repr=True,hash=None,compare=True,metadata=mappingproxy({}),kw_only=False,_field_type=_FIELD) \n",
      "\n",
      "Field(name='city',type=<class 'str'>,default=<dataclasses._MISSING_TYPE object at 0x7f87b3379c50>,default_factory=<dataclasses._MISSING_TYPE object at 0x7f87b3379c50>,init=True,repr=True,hash=None,compare=True,metadata=mappingproxy({}),kw_only=False,_field_type=_FIELD) \n",
      "\n",
      "Field(name='published_date',type=<class 'datetime.datetime'>,default=<dataclasses._MISSING_TYPE object at 0x7f87b3379c50>,default_factory=<dataclasses._MISSING_TYPE object at 0x7f87b3379c50>,init=True,repr=True,hash=None,compare=True,metadata=mappingproxy({}),kw_only=False,_field_type=_FIELD) \n",
      "\n",
      "Field(name='programming_language',type=<class 'str'>,default=<dataclasses._MISSING_TYPE object at 0x7f87b3379c50>,default_factory=<dataclasses._MISSING_TYPE object at 0x7f87b3379c50>,init=True,repr=True,hash=None,compare=True,metadata=mappingproxy({}),kw_only=False,_field_type=_FIELD) \n",
      "\n",
      "Field(name='vacancy_url',type=<class 'str'>,default=<dataclasses._MISSING_TYPE object at 0x7f87b3379c50>,default_factory=<dataclasses._MISSING_TYPE object at 0x7f87b3379c50>,init=True,repr=True,hash=None,compare=True,metadata=mappingproxy({}),kw_only=False,_field_type=_FIELD) \n",
      "\n"
     ]
    }
   ],
   "source": [
    "for i in dataclasses.fields(Vacancy):\n",
    "    print(i, '\\n')"
   ]
  },
  {
   "cell_type": "code",
   "execution_count": 128,
   "id": "bc1005b1-b0ce-4612-8ad0-757eabd71daa",
   "metadata": {},
   "outputs": [
    {
     "data": {
      "text/plain": [
       "123"
      ]
     },
     "execution_count": 128,
     "metadata": {},
     "output_type": "execute_result"
    }
   ],
   "source": [
    "v.__dict__[\"vacancy_id\"]"
   ]
  },
  {
   "cell_type": "code",
   "execution_count": null,
   "id": "a029ca42-7f38-4133-ad47-16b9e0b1c003",
   "metadata": {},
   "outputs": [],
   "source": []
  }
 ],
 "metadata": {
  "kernelspec": {
   "display_name": "Python 3 (ipykernel)",
   "language": "python",
   "name": "python3"
  },
  "language_info": {
   "codemirror_mode": {
    "name": "ipython",
    "version": 3
   },
   "file_extension": ".py",
   "mimetype": "text/x-python",
   "name": "python",
   "nbconvert_exporter": "python",
   "pygments_lexer": "ipython3",
   "version": "3.11.2"
  }
 },
 "nbformat": 4,
 "nbformat_minor": 5
}
