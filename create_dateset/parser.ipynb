{
 "cells": [
  {
   "cell_type": "code",
   "execution_count": 35,
   "id": "b28dd2ad-b7df-467f-90fc-8ef065fb8a4a",
   "metadata": {},
   "outputs": [],
   "source": [
    "import pandas as pd\n",
    "import csv\n",
    "import requests\n",
    "from typing import Any\n",
    "from datetime import datetime\n",
    "from bs4 import BeautifulSoup"
   ]
  },
  {
   "cell_type": "code",
   "execution_count": 27,
   "id": "25be0e3e-d85c-4844-a625-1115401a32cd",
   "metadata": {},
   "outputs": [],
   "source": [
    "def get_vacancies(params, programming_language: str=\"Python\") -> None:\n",
    "    url = \"https://api.hh.ru/vacancies\"\n",
    "    headers = {\n",
    "        \"User-Agent\": \"Your User Agent\",\n",
    "    }\n",
    "\n",
    "    response = requests.get(url, params=params, headers=headers)\n",
    "    result = []\n",
    "    if response.status_code == 200:\n",
    "        data = response.json()\n",
    "        vacancies = data.get(\"items\", [])\n",
    "        for vacancy in vacancies:\n",
    "            vacancy_id = vacancy.get(\"id\")\n",
    "            vacancy_title = vacancy.get(\"name\")\n",
    "            vacancy_url = vacancy.get(\"alternate_url\")\n",
    "            company_name = vacancy.get(\"employer\", {}).get(\"name\")\n",
    "            city = vacancy.get(\"area\").get(\"name\")\n",
    "            published_datetime = vacancy.get(\"published_at\")\n",
    "            published_date = datetime.fromisoformat(published_datetime).date()\n",
    "            salary_field: None | dict[str, Any ] = vacancy[\"salary\"]\n",
    "            \n",
    "            if salary_field is not None:\n",
    "                salary_from, salary_to = salary_field[\"from\"], salary_field[\"to\"]\n",
    "                salary = salary_to or salary_from\n",
    "            else:\n",
    "                salary = None\n",
    "            \n",
    "            result.append(\n",
    "                [vacancy_id, vacancy_title, company_name, salary, city, published_date, programming_language, vacancy_url]\n",
    "            )\n",
    "        return result\n",
    "    else:\n",
    "        raise \n"
   ]
  },
  {
   "cell_type": "code",
   "execution_count": 33,
   "id": "efd7fdf3-aab2-4fd3-8db2-3079d071a707",
   "metadata": {},
   "outputs": [],
   "source": [
    "def get_count_viwers(vacancy_id: int) -> int:\n",
    "    headers = {\n",
    "        \"User-Agent\": \"Your User Agent\",\n",
    "    }\n",
    "    url = f\"https://hh.ru/vacancy/{vacancy_id}\"\n",
    "    response = requests.get(url, headers=headers)\n",
    "    if response.status_code == 200:\n",
    "        html_content = response.text\n",
    "        soup = BeautifulSoup(html_content, \"html.parser\")\n",
    "        v = soup.findAll('span')\n",
    "        return v\n",
    "    else:\n",
    "        raise ValueError\n",
    "        "
   ]
  },
  {
   "cell_type": "code",
   "execution_count": 34,
   "id": "f48fcfeb-9201-4239-b417-a17bc8bdad41",
   "metadata": {},
   "outputs": [
    {
     "name": "stdout",
     "output_type": "stream",
     "text": [
      "[<span><!--noindex--></span>, <span><!--/noindex--></span>, <span><!--noindex--></span>, <span class=\"supernova-navi-item_area-switcher-button\">Дзержинский</span>, <span><!--/noindex--></span>, <span class=\"supernova-icon-services-dynamic\"><button class=\"supernova-icon-link-switch HH-Supernova-Overlay-Toggle\" data-overlay-name=\"overlay\" data-qa=\"mainmenu_applicantServices\"><span class=\"supernova-link-switch supernova-link-switch_dimmed\">Все сервисы</span><span> </span><span class=\"supernova-icon-services\"></span></button></span>, <span class=\"supernova-link-switch supernova-link-switch_dimmed\">Все сервисы</span>, <span> </span>, <span class=\"supernova-icon-services\"></span>, <span class=\"supernova-logo supernova-logo_inversed supernova-logo_hh-ru\" tabindex=\"-1\"></span>, <span class=\"supernova-navi-user-type-switcher-text\">Ищу работу</span>, <span class=\"supernova-icon-small supernova-icon_chevron-down supernova-navi-user-type-switcher-icon\"></span>, <span class=\"supernova-icon-dynamic\"><button class=\"supernova-icon-link-switch\" data-qa=\"supernova-search\"><span class=\"supernova-icon supernova-icon_search\"></span><span class=\"supernova-navi-search-text\"> <span class=\"supernova-link-switch\">Поиск</span></span></button></span>, <span class=\"supernova-icon supernova-icon_search\"></span>, <span class=\"supernova-navi-search-text\"> <span class=\"supernova-link-switch\">Поиск</span></span>, <span class=\"supernova-link-switch\">Поиск</span>, <span class=\"supernova-icon supernova-icon_mobile\"></span>, <span><span class=\"supernova-search-submit-icon\"><span class=\"supernova-icon supernova-icon_search\"></span></span><span class=\"supernova-search-submit-text\">Найти</span></span>, <span class=\"supernova-search-submit-icon\"><span class=\"supernova-icon supernova-icon_search\"></span></span>, <span class=\"supernova-icon supernova-icon_search\"></span>, <span class=\"supernova-search-submit-text\">Найти</span>, <span class=\"bloko-button__icon\"><svg class=\"bloko-icon bloko-icon_initial-gray-80\" fill=\"none\" height=\"16\" viewbox=\"0 0 16 16\" width=\"16\" xmlns=\"http://www.w3.org/2000/svg\"><path d=\"M3.33325 5.33337L8.66659 5.33337M8.66659 5.33337C8.66659 6.43794 9.56202 7.33337 10.6666 7.33337C11.7712 7.33337 12.6666 6.43794 12.6666 5.33337C12.6666 4.2288 11.7712 3.33337 10.6666 3.33337C9.56202 3.33337 8.66659 4.22881 8.66659 5.33337ZM7.33325 10.6667L12.6666 10.6667M7.33325 10.6667C7.33325 11.7713 6.43782 12.6667 5.33325 12.6667C4.22868 12.6667 3.33325 11.7713 3.33325 10.6667C3.33325 9.56214 4.22868 8.66671 5.33325 8.66671C6.43782 8.66671 7.33325 9.56214 7.33325 10.6667Z\" stroke=\"var(--bloko-icon-color, var(--bloko-icon-color-default))\" stroke-linecap=\"round\" stroke-linejoin=\"round\" stroke-width=\"1.33333\"></path></svg></span>, <span class=\"bloko-header-section-2 bloko-header-section-2_lite\" data-qa=\"vacancy-salary-compensation-type-gross\">от <!-- -->45 000<!-- --> до <!-- -->60 000<!-- --> <!-- -->₽<span class=\"vacancy-salary-compensation-type\"> <!-- -->до вычета налогов</span></span>, <span class=\"vacancy-salary-compensation-type\"> <!-- -->до вычета налогов</span>, <span data-qa=\"vacancy-experience\">не требуется</span>, <span>удаленная работа</span>, <span>Откликнуться</span>, <span class=\"vacancy-action\"><span class=\"bloko-icon-dynamic\"><button class=\"vacancy-action-favorite-redesign vacancy-action-favorite-redesign_appearance-outlined\" data-qa=\"vacancy-body-mark-favorite_false\" title=\"Добавить в избранное\"><span class=\"vacancy-action-favorite-icon-redesign\"></span></button></span></span>, <span class=\"bloko-icon-dynamic\"><button class=\"vacancy-action-favorite-redesign vacancy-action-favorite-redesign_appearance-outlined\" data-qa=\"vacancy-body-mark-favorite_false\" title=\"Добавить в избранное\"><span class=\"vacancy-action-favorite-icon-redesign\"></span></button></span>, <span class=\"vacancy-action-favorite-icon-redesign\"></span>, <span class=\"vacancy-company-name\"><a class=\"bloko-link bloko-link_kind-tertiary\" data-qa=\"vacancy-company-name\" href=\"/employer/3407499?hhtmFrom=vacancy\"><span class=\"bloko-header-section-2 bloko-header-section-2_lite\" data-qa=\"bloko-header-2\">IT школа Hello world</span></a></span>, <span class=\"bloko-header-section-2 bloko-header-section-2_lite\" data-qa=\"bloko-header-2\">IT школа Hello world</span>, <span class=\"geyJlhY___blocked-activator\"><div class=\"Cz9A_mo___activator\"><div class=\"Hw1pMjx___container\" data-qa=\"employer-reviews-stars\"><div class=\"hvSpud8___star AAmnYaf___star_filled\"></div><div class=\"hvSpud8___star AAmnYaf___star_filled\"></div><div class=\"hvSpud8___star AAmnYaf___star_filled\"></div><div class=\"hvSpud8___star AAmnYaf___star_filled\"></div><div class=\"hvSpud8___star zU4mUTF___star_half-filled\"></div></div></div></span>, <span>14<!-- --> <!-- -->отзывов</span>, <span>Продолжить</span>, <span class=\"bloko-text\">Чтобы подтвердить, что вы не робот, введите текст с картинки:</span>, <span class=\"bloko-icon-dynamic\"><button class=\"bloko-link bloko-link_with-icon\" type=\"button\"><span><svg class=\"bloko-icon bloko-icon_initial-blue-50 bloko-icon_highlighted-blue-70\" fill=\"none\" height=\"16\" viewbox=\"0 0 16 16\" width=\"16\" xmlns=\"http://www.w3.org/2000/svg\"><path d=\"M15.3333 2.66668V6.66668M15.3333 6.66668H11.3333M15.3333 6.66668L12.24 3.76001C11.5235 3.04315 10.637 2.51948 9.66342 2.23786C8.6898 1.95624 7.6607 1.92584 6.67215 2.14952C5.6836 2.37319 4.76783 2.84363 4.01027 3.51696C3.25271 4.19028 2.67807 5.04453 2.33996 6.00001M0.666626 13.3333V9.33334M0.666626 9.33334H4.66663M0.666626 9.33334L3.75996 12.24C4.47646 12.9569 5.36287 13.4805 6.3365 13.7622C7.31012 14.0438 8.33922 14.0742 9.32777 13.8505C10.3163 13.6268 11.2321 13.1564 11.9896 12.4831C12.7472 11.8097 13.3218 10.9555 13.66 10\" stroke=\"var(--bloko-icon-color, var(--bloko-icon-color-default))\" stroke-linecap=\"round\" stroke-linejoin=\"round\" stroke-width=\"1.33333\"></path></svg> <span class=\"bloko-link__content\">Другой текст</span></span></button></span>, <span><svg class=\"bloko-icon bloko-icon_initial-blue-50 bloko-icon_highlighted-blue-70\" fill=\"none\" height=\"16\" viewbox=\"0 0 16 16\" width=\"16\" xmlns=\"http://www.w3.org/2000/svg\"><path d=\"M15.3333 2.66668V6.66668M15.3333 6.66668H11.3333M15.3333 6.66668L12.24 3.76001C11.5235 3.04315 10.637 2.51948 9.66342 2.23786C8.6898 1.95624 7.6607 1.92584 6.67215 2.14952C5.6836 2.37319 4.76783 2.84363 4.01027 3.51696C3.25271 4.19028 2.67807 5.04453 2.33996 6.00001M0.666626 13.3333V9.33334M0.666626 9.33334H4.66663M0.666626 9.33334L3.75996 12.24C4.47646 12.9569 5.36287 13.4805 6.3365 13.7622C7.31012 14.0438 8.33922 14.0742 9.32777 13.8505C10.3163 13.6268 11.2321 13.1564 11.9896 12.4831C12.7472 11.8097 13.3218 10.9555 13.66 10\" stroke=\"var(--bloko-icon-color, var(--bloko-icon-color-default))\" stroke-linecap=\"round\" stroke-linejoin=\"round\" stroke-width=\"1.33333\"></path></svg> <span class=\"bloko-link__content\">Другой текст</span></span>, <span class=\"bloko-link__content\">Другой текст</span>, <span>English</span>, <span class=\"bloko-tag__section bloko-tag__section_text\" data-qa=\"bloko-tag__text\">Веб-программирование</span>, <span class=\"bloko-tag__section bloko-tag__section_text\" data-qa=\"bloko-tag__text\">Python</span>, <span class=\"bloko-tag__section bloko-tag__section_text\" data-qa=\"bloko-tag__text\">Управление временем</span>, <span class=\"bloko-tag__section bloko-tag__section_text\" data-qa=\"bloko-tag__text\">Корпоративная этика</span>, <span class=\"bloko-tag__section bloko-tag__section_text\" data-qa=\"bloko-tag__text\">Мотивация</span>, <span class=\"bloko-tag__section bloko-tag__section_text\" data-qa=\"bloko-tag__text\">Обучение и развитие</span>, <span class=\"bloko-tag__section bloko-tag__section_text\" data-qa=\"bloko-tag__text\">Roblox</span>, <span class=\"bloko-tag__section bloko-tag__section_text\" data-qa=\"bloko-tag__text\">Scratch</span>, <span class=\"bloko-tag__section bloko-tag__section_text\" data-qa=\"bloko-tag__text\">Figma</span>, <span class=\"bloko-tag__section bloko-tag__section_text\" data-qa=\"bloko-tag__text\">Графический дизайн</span>, <span class=\"bloko-tag__section bloko-tag__section_text\" data-qa=\"bloko-tag__text\">Unity</span>, <span class=\"bloko-tag__section bloko-tag__section_text\" data-qa=\"bloko-tag__text\">Blender 3D</span>, <span class=\"bloko-tag__section bloko-tag__section_text\" data-qa=\"bloko-tag__text\">Работа с детьми</span>, <span class=\"bloko-tag__section bloko-tag__section_text\" data-qa=\"bloko-tag__text\">Дети</span>, <span class=\"bloko-tag__section bloko-tag__section_text\" data-qa=\"bloko-tag__text\">Преподаватель</span>, <span class=\"bloko-tag__section bloko-tag__section_text\" data-qa=\"bloko-tag__text\">Учитель</span>, <span class=\"bloko-tag__section bloko-tag__section_text\" data-qa=\"bloko-tag__text\">Тютор</span>, <span class=\"bloko-tag__section bloko-tag__section_text\" data-qa=\"bloko-tag__text\">Индивидуальные уроки</span>, <span>16 февраля 2024</span>, <span class=\"bloko-header-1\" data-qa=\"bloko-header-1\">4,3</span>, <span class=\"zVe6evP___comment\">очень хорошо</span>, <span class=\"geyJlhY___blocked-activator\"><span class=\"bloko-button bloko-button_kind-primary\" data-qa=\"employer-review-big-widget-leave-review-action\" disabled=\"\"><span>Оставить отзыв</span></span></span>, <span class=\"bloko-button bloko-button_kind-primary\" data-qa=\"employer-review-big-widget-leave-review-action\" disabled=\"\"><span>Оставить отзыв</span></span>, <span>Оставить отзыв</span>, <span class=\"NMGRbmr___all-reviews-separator-link\"></span>, <span class=\"opZBRoL___review-date\">Март 2024</span>, <span>Да, показывайте больше</span>, <span class=\"bloko-icon-dynamic\"><button class=\"bloko-icon-link\" type=\"button\"><div class=\"TX0ijZ____arrow BYzGzwZ___arrow_right\" data-qa=\"reviews-slider-arrow-reviews_list-right\"><svg class=\"bloko-icon bloko-icon_initial-green-50 bloko-icon_highlighted-blue-60\" fill=\"none\" height=\"16\" viewbox=\"0 0 16 16\" width=\"16\" xmlns=\"http://www.w3.org/2000/svg\"><path d=\"M6 12L10 8L6 4\" stroke=\"var(--bloko-icon-color, var(--bloko-icon-color-default))\" stroke-linecap=\"round\" stroke-linejoin=\"round\" stroke-width=\"1.33333\"></path></svg></div></button></span>, <span data-page-analytics-event=\"vacancy_search_suitable_item\"><span class=\"serp-item__title-link-wrapper\"><a class=\"bloko-link\" href=\"https://dzerzhinskij.hh.ru/vacancy/91189147?hhtmFromLabel=similar_vacancies&amp;hhtmFrom=vacancy\" target=\"_blank\"><span class=\"serp-item__title serp-item__title-link\" data-qa=\"serp-item__title\">Тьютор по Roblox и Scratch, Blender 3D</span></a></span></span>, <span class=\"serp-item__title-link-wrapper\"><a class=\"bloko-link\" href=\"https://dzerzhinskij.hh.ru/vacancy/91189147?hhtmFromLabel=similar_vacancies&amp;hhtmFrom=vacancy\" target=\"_blank\"><span class=\"serp-item__title serp-item__title-link\" data-qa=\"serp-item__title\">Тьютор по Roblox и Scratch, Blender 3D</span></a></span>, <span class=\"serp-item__title serp-item__title-link\" data-qa=\"serp-item__title\">Тьютор по Roblox и Scratch, Blender 3D</span>, <span class=\"bloko-header-section-2\" data-qa=\"vacancy-serp__vacancy-compensation\">45 000 – 60 000 <!-- -->₽</span>, <span class=\"label--rWRLMsbliNlu_OMkM_D3 label_light-violet--mfqJrKkFOboQUFsgaJp2\" data-qa=\"vacancy-label-remote-work-schedule\">Можно из дома</span>, <span>Откликнуться</span>, <span>Откликнуться</span>, <span class=\"serp-item-controls-spacer--Dq53fNBQL8qDO0Z_RHRc\"></span>, <span data-page-analytics-event=\"vacancy_search_suitable_item\"><span class=\"serp-item__title-link-wrapper\"><a class=\"bloko-link\" href=\"https://dzerzhinskij.hh.ru/vacancy/94079565?hhtmFromLabel=similar_vacancies&amp;hhtmFrom=vacancy\" target=\"_blank\"><span class=\"serp-item__title serp-item__title-link\" data-qa=\"serp-item__title\">Преподаватель по Scratch (удалённо)</span></a></span></span>, <span class=\"serp-item__title-link-wrapper\"><a class=\"bloko-link\" href=\"https://dzerzhinskij.hh.ru/vacancy/94079565?hhtmFromLabel=similar_vacancies&amp;hhtmFrom=vacancy\" target=\"_blank\"><span class=\"serp-item__title serp-item__title-link\" data-qa=\"serp-item__title\">Преподаватель по Scratch (удалённо)</span></a></span>, <span class=\"serp-item__title serp-item__title-link\" data-qa=\"serp-item__title\">Преподаватель по Scratch (удалённо)</span>, <span class=\"bloko-header-section-2\" data-qa=\"vacancy-serp__vacancy-compensation\">до <!-- -->60 000<!-- --> <!-- -->₽</span>, <span class=\"label--rWRLMsbliNlu_OMkM_D3 label_light-yellow--OKtnVKnCAhia8zFMCe68\" data-qa=\"vacancy-label-no-resume\">Отклик без резюме</span>, <span class=\"label--rWRLMsbliNlu_OMkM_D3 label_light-green--oMhc5Pq9VsjySzrrLOTh\" data-qa=\"vacancy-label-be-first\">Откликнитесь среди первых</span>, <span class=\"label--rWRLMsbliNlu_OMkM_D3 label_light-violet--mfqJrKkFOboQUFsgaJp2\" data-qa=\"vacancy-label-remote-work-schedule\">Можно из дома</span>, <span>Откликнуться</span>, <span>Откликнуться</span>, <span class=\"serp-item-controls-spacer--Dq53fNBQL8qDO0Z_RHRc\"></span>, <span data-page-analytics-event=\"vacancy_search_suitable_item\"><span class=\"serp-item__title-link-wrapper\"><a class=\"bloko-link\" href=\"https://dzerzhinskij.hh.ru/vacancy/93214078?hhtmFromLabel=similar_vacancies&amp;hhtmFrom=vacancy\" target=\"_blank\"><span class=\"serp-item__title serp-item__title-link\" data-qa=\"serp-item__title\">Преподаватель по программированию Roblox , Scratch (Удалённо)</span></a></span></span>, <span class=\"serp-item__title-link-wrapper\"><a class=\"bloko-link\" href=\"https://dzerzhinskij.hh.ru/vacancy/93214078?hhtmFromLabel=similar_vacancies&amp;hhtmFrom=vacancy\" target=\"_blank\"><span class=\"serp-item__title serp-item__title-link\" data-qa=\"serp-item__title\">Преподаватель по программированию Roblox , Scratch (Удалённо)</span></a></span>, <span class=\"serp-item__title serp-item__title-link\" data-qa=\"serp-item__title\">Преподаватель по программированию Roblox , Scratch (Удалённо)</span>, <span class=\"bloko-header-section-2\" data-qa=\"vacancy-serp__vacancy-compensation\">до <!-- -->85 000<!-- --> <!-- -->₽</span>, <span class=\"label--rWRLMsbliNlu_OMkM_D3 label_light-violet--mfqJrKkFOboQUFsgaJp2\" data-qa=\"vacancy-label-remote-work-schedule\">Можно из дома</span>, <span>Откликнуться</span>, <span>Откликнуться</span>, <span class=\"serp-item-controls-spacer--Dq53fNBQL8qDO0Z_RHRc\"></span>, <span data-page-analytics-event=\"vacancy_search_suitable_item\"><span class=\"serp-item__title-link-wrapper\"><a class=\"bloko-link\" href=\"https://dzerzhinskij.hh.ru/vacancy/94195238?hhtmFromLabel=similar_vacancies&amp;hhtmFrom=vacancy\" target=\"_blank\"><span class=\"serp-item__title serp-item__title-link\" data-qa=\"serp-item__title\">Преподаватель по ментальной арифметике в онлайн-школу</span></a></span></span>, <span class=\"serp-item__title-link-wrapper\"><a class=\"bloko-link\" href=\"https://dzerzhinskij.hh.ru/vacancy/94195238?hhtmFromLabel=similar_vacancies&amp;hhtmFrom=vacancy\" target=\"_blank\"><span class=\"serp-item__title serp-item__title-link\" data-qa=\"serp-item__title\">Преподаватель по ментальной арифметике в онлайн-школу</span></a></span>, <span class=\"serp-item__title serp-item__title-link\" data-qa=\"serp-item__title\">Преподаватель по ментальной арифметике в онлайн-школу</span>, <span class=\"bloko-header-section-2\" data-qa=\"vacancy-serp__vacancy-compensation\">до <!-- -->70 000<!-- --> <!-- -->₽</span>, <span class=\"label--rWRLMsbliNlu_OMkM_D3 label_light-green--oMhc5Pq9VsjySzrrLOTh\" data-qa=\"vacancy-label-be-first\">Откликнитесь среди первых</span>, <span class=\"label--rWRLMsbliNlu_OMkM_D3 label_light-violet--mfqJrKkFOboQUFsgaJp2\" data-qa=\"vacancy-label-remote-work-schedule\">Можно из дома</span>, <span>Откликнуться</span>, <span>Откликнуться</span>, <span class=\"serp-item-controls-spacer--Dq53fNBQL8qDO0Z_RHRc\"></span>, <span data-page-analytics-event=\"vacancy_search_suitable_item\"><span class=\"serp-item__title-link-wrapper\"><a class=\"bloko-link\" href=\"https://dzerzhinskij.hh.ru/vacancy/94094649?hhtmFromLabel=similar_vacancies&amp;hhtmFrom=vacancy\" target=\"_blank\"><span class=\"serp-item__title serp-item__title-link\" data-qa=\"serp-item__title\">Репетитор по ментальной арифметике (удалённо)</span></a></span></span>, <span class=\"serp-item__title-link-wrapper\"><a class=\"bloko-link\" href=\"https://dzerzhinskij.hh.ru/vacancy/94094649?hhtmFromLabel=similar_vacancies&amp;hhtmFrom=vacancy\" target=\"_blank\"><span class=\"serp-item__title serp-item__title-link\" data-qa=\"serp-item__title\">Репетитор по ментальной арифметике (удалённо)</span></a></span>, <span class=\"serp-item__title serp-item__title-link\" data-qa=\"serp-item__title\">Репетитор по ментальной арифметике (удалённо)</span>, <span class=\"bloko-header-section-2\" data-qa=\"vacancy-serp__vacancy-compensation\">до <!-- -->60 000<!-- --> <!-- -->₽</span>, <span class=\"label--rWRLMsbliNlu_OMkM_D3 label_light-yellow--OKtnVKnCAhia8zFMCe68\" data-qa=\"vacancy-label-no-resume\">Отклик без резюме</span>, <span class=\"label--rWRLMsbliNlu_OMkM_D3 label_light-green--oMhc5Pq9VsjySzrrLOTh\" data-qa=\"vacancy-label-be-first\">Откликнитесь среди первых</span>, <span class=\"label--rWRLMsbliNlu_OMkM_D3 label_light-violet--mfqJrKkFOboQUFsgaJp2\" data-qa=\"vacancy-label-remote-work-schedule\">Можно из дома</span>, <span>Откликнуться</span>, <span>Откликнуться</span>, <span class=\"serp-item-controls-spacer--Dq53fNBQL8qDO0Z_RHRc\"></span>, <span data-page-analytics-event=\"vacancy_search_suitable_item\"><span class=\"serp-item__title-link-wrapper\"><a class=\"bloko-link\" href=\"https://dzerzhinskij.hh.ru/vacancy/91980337?hhtmFromLabel=similar_vacancies&amp;hhtmFrom=vacancy\" target=\"_blank\"><span class=\"serp-item__title serp-item__title-link\" data-qa=\"serp-item__title\">Преподаватель по направлению Minecraft (удалённо)</span></a></span></span>, <span class=\"serp-item__title-link-wrapper\"><a class=\"bloko-link\" href=\"https://dzerzhinskij.hh.ru/vacancy/91980337?hhtmFromLabel=similar_vacancies&amp;hhtmFrom=vacancy\" target=\"_blank\"><span class=\"serp-item__title serp-item__title-link\" data-qa=\"serp-item__title\">Преподаватель по направлению Minecraft (удалённо)</span></a></span>, <span class=\"serp-item__title serp-item__title-link\" data-qa=\"serp-item__title\">Преподаватель по направлению Minecraft (удалённо)</span>, <span class=\"bloko-header-section-2\" data-qa=\"vacancy-serp__vacancy-compensation\">40 000 – 60 000 <!-- -->₽</span>, <span class=\"label--rWRLMsbliNlu_OMkM_D3 label_light-yellow--OKtnVKnCAhia8zFMCe68\" data-qa=\"vacancy-label-no-resume\">Отклик без резюме</span>, <span class=\"label--rWRLMsbliNlu_OMkM_D3 label_light-violet--mfqJrKkFOboQUFsgaJp2\" data-qa=\"vacancy-label-remote-work-schedule\">Можно из дома</span>, <span>Откликнуться</span>, <span>Откликнуться</span>, <span class=\"serp-item-controls-spacer--Dq53fNBQL8qDO0Z_RHRc\"></span>, <span class=\"vacancy-company-name\"><a class=\"bloko-link bloko-link_kind-tertiary\" data-qa=\"vacancy-company-name\" href=\"/employer/3407499?hhtmFrom=vacancy\"><span class=\"bloko-header-section-2 bloko-header-section-2_lite\" data-qa=\"bloko-header-2\">IT школа Hello world</span></a></span>, <span class=\"bloko-header-section-2 bloko-header-section-2_lite\" data-qa=\"bloko-header-2\">IT школа Hello world</span>, <span class=\"geyJlhY___blocked-activator\"><div class=\"Cz9A_mo___activator\"><div class=\"Hw1pMjx___container\" data-qa=\"employer-reviews-stars\"><div class=\"hvSpud8___star AAmnYaf___star_filled\"></div><div class=\"hvSpud8___star AAmnYaf___star_filled\"></div><div class=\"hvSpud8___star AAmnYaf___star_filled\"></div><div class=\"hvSpud8___star AAmnYaf___star_filled\"></div><div class=\"hvSpud8___star zU4mUTF___star_half-filled\"></div></div></div></span>, <span>14<!-- --> <!-- -->отзывов</span>, <span class=\"magritte-button__content___BXYU0_2-6-7\"><span class=\"magritte-button__icon___912gw_2-6-7\"><svg aria-label=\"chatBotTelegram\" class=\"magritte-icon___rRr4Q_5-4-5 magritte-icon_initial-primary___KhLAU_5-4-5\" fill=\"none\" focusable=\"false\" height=\"24\" role=\"img\" viewbox=\"0 0 24 24\" width=\"24\" xmlns=\"http://www.w3.org/2000/svg\"><path d=\"M0.306672 11.8508C2.38415 10.6572 4.70328 9.66064 6.87011 8.65994C10.5976 7.01963 14.3403 5.41026 18.1206 3.90921C18.8567 3.65337 20.1777 3.40371 20.3077 4.54058C20.2366 6.14995 19.9452 7.749 19.7442 9.34805C19.2365 12.866 18.6486 16.3705 18.0759 19.877C17.8789 21.0449 16.4756 21.6494 15.578 20.9015C13.4214 19.3818 11.2474 17.8777 9.11817 16.323C8.41958 15.5833 9.0674 14.5218 9.68983 13.9946C11.4668 12.1686 13.3513 10.617 15.0348 8.69708C15.4897 7.55299 14.1474 8.51758 13.7047 8.81263C11.2718 10.5602 8.89885 12.4151 6.335 13.9502C5.02516 14.7033 3.49802 14.0606 2.18818 13.6407C1.01439 13.1342 -0.705665 12.6235 0.306672 11.8508Z\" fill=\"var(--magritte-ui-icon-color)\"></path></svg></span></span>, <span class=\"magritte-button__icon___912gw_2-6-7\"><svg aria-label=\"chatBotTelegram\" class=\"magritte-icon___rRr4Q_5-4-5 magritte-icon_initial-primary___KhLAU_5-4-5\" fill=\"none\" focusable=\"false\" height=\"24\" role=\"img\" viewbox=\"0 0 24 24\" width=\"24\" xmlns=\"http://www.w3.org/2000/svg\"><path d=\"M0.306672 11.8508C2.38415 10.6572 4.70328 9.66064 6.87011 8.65994C10.5976 7.01963 14.3403 5.41026 18.1206 3.90921C18.8567 3.65337 20.1777 3.40371 20.3077 4.54058C20.2366 6.14995 19.9452 7.749 19.7442 9.34805C19.2365 12.866 18.6486 16.3705 18.0759 19.877C17.8789 21.0449 16.4756 21.6494 15.578 20.9015C13.4214 19.3818 11.2474 17.8777 9.11817 16.323C8.41958 15.5833 9.0674 14.5218 9.68983 13.9946C11.4668 12.1686 13.3513 10.617 15.0348 8.69708C15.4897 7.55299 14.1474 8.51758 13.7047 8.81263C11.2718 10.5602 8.89885 12.4151 6.335 13.9502C5.02516 14.7033 3.49802 14.0606 2.18818 13.6407C1.01439 13.1342 -0.705665 12.6235 0.306672 11.8508Z\" fill=\"var(--magritte-ui-icon-color)\"></path></svg></span>, <span class=\"magritte-button__content___BXYU0_2-6-7\"><span class=\"magritte-button__icon___912gw_2-6-7\"><svg aria-label=\"chatBotViber\" class=\"magritte-icon___rRr4Q_5-4-5 magritte-icon_initial-primary___KhLAU_5-4-5\" fill=\"none\" focusable=\"false\" height=\"24\" role=\"img\" viewbox=\"0 0 24 24\" width=\"24\" xmlns=\"http://www.w3.org/2000/svg\"><path clip-rule=\"evenodd\" d=\"M12.3556 1.07465C17.1439 1.09554 19.4388 2.53746 19.9704 3.02051C21.737 4.53306 22.6371 8.15249 21.9789 13.455C21.4057 18.0855 18.2994 18.8097 17.1774 19.0713C17.0529 19.1003 16.9529 19.1236 16.8834 19.146C16.5883 19.2424 13.8446 19.9233 10.3961 19.6981C10.3961 19.6981 7.82593 22.7988 7.02313 23.605C6.89781 23.7299 6.75047 23.7808 6.65211 23.7569C6.5154 23.7231 6.47743 23.5594 6.47743 23.3202C6.47971 22.978 6.49945 19.0852 6.49945 19.0852C1.64559 17.7367 1.75829 12.791 1.82227 9.98357C1.82447 9.88707 1.82661 9.79309 1.82849 9.70188C1.88508 6.95703 2.40116 4.70775 3.93308 3.19519C6.68553 0.702117 12.3556 1.07465 12.3556 1.07465ZM11.5069 4.11728C11.5081 3.94048 11.6525 3.79815 11.8293 3.79939C13.6871 3.81233 15.2575 4.43081 16.5183 5.65992C17.7897 6.89931 18.4184 8.58663 18.4343 10.6822C18.4357 10.859 18.2935 11.0035 18.1167 11.0048C17.9399 11.0061 17.7954 10.8639 17.7941 10.6871C17.7792 8.72342 17.195 7.21372 16.0714 6.11839C14.9372 5.01278 13.529 4.4515 11.8248 4.43963C11.648 4.4384 11.5057 4.29408 11.5069 4.11728ZM12.4147 5.46089C12.2384 5.44799 12.085 5.58047 12.0721 5.7568C12.0592 5.93313 12.1917 6.08654 12.368 6.09945C13.5869 6.18865 14.5023 6.59662 15.1572 7.31138C15.814 8.02911 16.1364 8.9238 16.1126 10.02C16.1088 10.1968 16.249 10.3432 16.4258 10.347C16.6025 10.3508 16.7489 10.2106 16.7528 10.0339C16.7797 8.79081 16.409 7.73092 15.6294 6.879C14.8412 6.01862 13.7591 5.55928 12.4147 5.46089ZM12.5574 7.4815C12.5666 7.30494 12.7172 7.16927 12.8938 7.17848C13.5544 7.21294 14.104 7.4129 14.4954 7.81762C14.8853 8.22079 15.0765 8.78402 15.11 9.46045C15.1188 9.63704 14.9827 9.78729 14.8061 9.79605C14.6296 9.80481 14.4793 9.66876 14.4705 9.49217C14.4418 8.91314 14.283 8.51895 14.0352 8.26274C13.7889 8.00808 13.413 7.8467 12.8604 7.81788C12.6838 7.80866 12.5482 7.65806 12.5574 7.4815ZM13.6327 13.5036C13.3905 13.802 12.9405 13.7641 12.9405 13.7641C9.65142 12.9244 8.77115 9.59286 8.77115 9.59286C8.77115 9.59286 8.73166 9.14286 9.03166 8.90058L9.62597 8.42816C9.92066 8.20107 10.1086 7.65005 9.80864 7.11194C9.57853 6.70802 9.32834 6.31588 9.059 5.93699C8.79735 5.57964 8.18785 4.84785 8.18557 4.84558C7.89164 4.49886 7.45949 4.41835 7.00378 4.6557C7.0024 4.6557 7.00051 4.65631 6.99869 4.6569C6.997 4.65745 6.99538 4.65798 6.99429 4.65798C6.54105 4.91912 6.13236 5.25089 5.78364 5.64078C5.78245 5.64316 5.78126 5.64429 5.78007 5.64543C5.77898 5.64647 5.77789 5.64751 5.7768 5.64951C5.49528 5.98926 5.33413 6.32231 5.29337 6.64864C5.28491 6.69676 5.28198 6.74568 5.28464 6.79447C5.28313 6.93857 5.30506 7.08197 5.34958 7.21903L5.36515 7.22966C5.50718 7.73398 5.86262 8.57399 6.63504 9.97452C7.07685 10.7846 7.5864 11.5558 8.15823 12.28C8.44473 12.643 8.75182 12.9893 9.07799 13.3171L9.08972 13.3289L9.08976 13.329C9.09746 13.3367 9.10511 13.3445 9.11293 13.352L9.21774 13.4569C9.54556 13.783 9.89184 14.0901 10.2548 14.3766C10.9791 14.9485 11.7505 15.4581 12.5607 15.8998C13.9609 16.6722 14.8016 17.0277 15.3052 17.1697L15.3158 17.1853C15.4529 17.2299 15.5962 17.252 15.7404 17.2506C15.7892 17.2529 15.8381 17.2499 15.8862 17.2415C16.213 17.2027 16.5458 17.0418 16.8846 16.7588L16.8865 16.7575L16.8887 16.7555C16.8898 16.7543 16.8909 16.7532 16.8933 16.752C17.2832 16.4031 17.6151 15.9945 17.8765 15.5413L17.8767 15.5394C17.8769 15.5386 17.8771 15.5378 17.8774 15.5369C17.8779 15.5351 17.8784 15.5332 17.8784 15.5318C18.1157 15.0761 18.0352 14.644 17.6866 14.3497C17.6862 14.3497 17.6578 14.3263 17.6098 14.2867L17.6098 14.2867L17.6096 14.2866L17.6096 14.2865L17.6095 14.2865C17.4118 14.1236 16.8825 13.6875 16.5952 13.4762C16.2167 13.2069 15.8249 12.9567 15.4214 12.7266C14.8829 12.4266 14.333 12.6146 14.1052 12.9092L13.6327 13.5036Z\" fill=\"var(--magritte-ui-icon-color)\" fill-rule=\"evenodd\"></path></svg></span></span>, <span class=\"magritte-button__icon___912gw_2-6-7\"><svg aria-label=\"chatBotViber\" class=\"magritte-icon___rRr4Q_5-4-5 magritte-icon_initial-primary___KhLAU_5-4-5\" fill=\"none\" focusable=\"false\" height=\"24\" role=\"img\" viewbox=\"0 0 24 24\" width=\"24\" xmlns=\"http://www.w3.org/2000/svg\"><path clip-rule=\"evenodd\" d=\"M12.3556 1.07465C17.1439 1.09554 19.4388 2.53746 19.9704 3.02051C21.737 4.53306 22.6371 8.15249 21.9789 13.455C21.4057 18.0855 18.2994 18.8097 17.1774 19.0713C17.0529 19.1003 16.9529 19.1236 16.8834 19.146C16.5883 19.2424 13.8446 19.9233 10.3961 19.6981C10.3961 19.6981 7.82593 22.7988 7.02313 23.605C6.89781 23.7299 6.75047 23.7808 6.65211 23.7569C6.5154 23.7231 6.47743 23.5594 6.47743 23.3202C6.47971 22.978 6.49945 19.0852 6.49945 19.0852C1.64559 17.7367 1.75829 12.791 1.82227 9.98357C1.82447 9.88707 1.82661 9.79309 1.82849 9.70188C1.88508 6.95703 2.40116 4.70775 3.93308 3.19519C6.68553 0.702117 12.3556 1.07465 12.3556 1.07465ZM11.5069 4.11728C11.5081 3.94048 11.6525 3.79815 11.8293 3.79939C13.6871 3.81233 15.2575 4.43081 16.5183 5.65992C17.7897 6.89931 18.4184 8.58663 18.4343 10.6822C18.4357 10.859 18.2935 11.0035 18.1167 11.0048C17.9399 11.0061 17.7954 10.8639 17.7941 10.6871C17.7792 8.72342 17.195 7.21372 16.0714 6.11839C14.9372 5.01278 13.529 4.4515 11.8248 4.43963C11.648 4.4384 11.5057 4.29408 11.5069 4.11728ZM12.4147 5.46089C12.2384 5.44799 12.085 5.58047 12.0721 5.7568C12.0592 5.93313 12.1917 6.08654 12.368 6.09945C13.5869 6.18865 14.5023 6.59662 15.1572 7.31138C15.814 8.02911 16.1364 8.9238 16.1126 10.02C16.1088 10.1968 16.249 10.3432 16.4258 10.347C16.6025 10.3508 16.7489 10.2106 16.7528 10.0339C16.7797 8.79081 16.409 7.73092 15.6294 6.879C14.8412 6.01862 13.7591 5.55928 12.4147 5.46089ZM12.5574 7.4815C12.5666 7.30494 12.7172 7.16927 12.8938 7.17848C13.5544 7.21294 14.104 7.4129 14.4954 7.81762C14.8853 8.22079 15.0765 8.78402 15.11 9.46045C15.1188 9.63704 14.9827 9.78729 14.8061 9.79605C14.6296 9.80481 14.4793 9.66876 14.4705 9.49217C14.4418 8.91314 14.283 8.51895 14.0352 8.26274C13.7889 8.00808 13.413 7.8467 12.8604 7.81788C12.6838 7.80866 12.5482 7.65806 12.5574 7.4815ZM13.6327 13.5036C13.3905 13.802 12.9405 13.7641 12.9405 13.7641C9.65142 12.9244 8.77115 9.59286 8.77115 9.59286C8.77115 9.59286 8.73166 9.14286 9.03166 8.90058L9.62597 8.42816C9.92066 8.20107 10.1086 7.65005 9.80864 7.11194C9.57853 6.70802 9.32834 6.31588 9.059 5.93699C8.79735 5.57964 8.18785 4.84785 8.18557 4.84558C7.89164 4.49886 7.45949 4.41835 7.00378 4.6557C7.0024 4.6557 7.00051 4.65631 6.99869 4.6569C6.997 4.65745 6.99538 4.65798 6.99429 4.65798C6.54105 4.91912 6.13236 5.25089 5.78364 5.64078C5.78245 5.64316 5.78126 5.64429 5.78007 5.64543C5.77898 5.64647 5.77789 5.64751 5.7768 5.64951C5.49528 5.98926 5.33413 6.32231 5.29337 6.64864C5.28491 6.69676 5.28198 6.74568 5.28464 6.79447C5.28313 6.93857 5.30506 7.08197 5.34958 7.21903L5.36515 7.22966C5.50718 7.73398 5.86262 8.57399 6.63504 9.97452C7.07685 10.7846 7.5864 11.5558 8.15823 12.28C8.44473 12.643 8.75182 12.9893 9.07799 13.3171L9.08972 13.3289L9.08976 13.329C9.09746 13.3367 9.10511 13.3445 9.11293 13.352L9.21774 13.4569C9.54556 13.783 9.89184 14.0901 10.2548 14.3766C10.9791 14.9485 11.7505 15.4581 12.5607 15.8998C13.9609 16.6722 14.8016 17.0277 15.3052 17.1697L15.3158 17.1853C15.4529 17.2299 15.5962 17.252 15.7404 17.2506C15.7892 17.2529 15.8381 17.2499 15.8862 17.2415C16.213 17.2027 16.5458 17.0418 16.8846 16.7588L16.8865 16.7575L16.8887 16.7555C16.8898 16.7543 16.8909 16.7532 16.8933 16.752C17.2832 16.4031 17.6151 15.9945 17.8765 15.5413L17.8767 15.5394C17.8769 15.5386 17.8771 15.5378 17.8774 15.5369C17.8779 15.5351 17.8784 15.5332 17.8784 15.5318C18.1157 15.0761 18.0352 14.644 17.6866 14.3497C17.6862 14.3497 17.6578 14.3263 17.6098 14.2867L17.6098 14.2867L17.6096 14.2866L17.6096 14.2865L17.6095 14.2865C17.4118 14.1236 16.8825 13.6875 16.5952 13.4762C16.2167 13.2069 15.8249 12.9567 15.4214 12.7266C14.8829 12.4266 14.333 12.6146 14.1052 12.9092L13.6327 13.5036Z\" fill=\"var(--magritte-ui-icon-color)\" fill-rule=\"evenodd\"></path></svg></span>, <span class=\"magritte-button__content___BXYU0_2-6-7\"><span class=\"magritte-button__icon___912gw_2-6-7\"><svg aria-label=\"chatBotVk\" class=\"magritte-icon___rRr4Q_5-4-5 magritte-icon_initial-primary___KhLAU_5-4-5\" fill=\"none\" focusable=\"false\" height=\"24\" role=\"img\" viewbox=\"0 0 24 24\" width=\"24\" xmlns=\"http://www.w3.org/2000/svg\"><path d=\"M13.0647 19C5.399 19 1.0267 13.7447 0.844513 5H4.68435C4.81048 11.4184 7.64124 14.1371 9.88348 14.6977V5H13.4992V10.5355C15.7135 10.2973 18.0395 7.77477 18.8243 5H22.44C21.8374 8.41942 19.3148 10.9419 17.521 11.979C19.3148 12.8198 22.1879 15.02 23.2809 19H19.3008C18.446 16.3373 16.3161 14.2773 13.4992 13.997V19H13.0647Z\" fill=\"var(--magritte-ui-icon-color)\"></path></svg></span></span>, <span class=\"magritte-button__icon___912gw_2-6-7\"><svg aria-label=\"chatBotVk\" class=\"magritte-icon___rRr4Q_5-4-5 magritte-icon_initial-primary___KhLAU_5-4-5\" fill=\"none\" focusable=\"false\" height=\"24\" role=\"img\" viewbox=\"0 0 24 24\" width=\"24\" xmlns=\"http://www.w3.org/2000/svg\"><path d=\"M13.0647 19C5.399 19 1.0267 13.7447 0.844513 5H4.68435C4.81048 11.4184 7.64124 14.1371 9.88348 14.6977V5H13.4992V10.5355C15.7135 10.2973 18.0395 7.77477 18.8243 5H22.44C21.8374 8.41942 19.3148 10.9419 17.521 11.979C19.3148 12.8198 22.1879 15.02 23.2809 19H19.3008C18.446 16.3373 16.3161 14.2773 13.4992 13.997V19H13.0647Z\" fill=\"var(--magritte-ui-icon-color)\"></path></svg></span>, <span class=\"magritte-button__content___BXYU0_2-6-7\"><span class=\"magritte-button__icon___912gw_2-6-7\"><div aria-label=\"ios\" class=\"mobile-app-button--GmJwG60xpK_HW3vngd_n mobile-app-button_ios--Zi1CXs86lebCiP24BZVN\"></div></span></span>, <span class=\"magritte-button__icon___912gw_2-6-7\"><div aria-label=\"ios\" class=\"mobile-app-button--GmJwG60xpK_HW3vngd_n mobile-app-button_ios--Zi1CXs86lebCiP24BZVN\"></div></span>, <span class=\"magritte-button__content___BXYU0_2-6-7\"><span class=\"magritte-button__icon___912gw_2-6-7\"><div aria-label=\"android\" class=\"mobile-app-button--GmJwG60xpK_HW3vngd_n mobile-app-button_android--iChEmjQ2ruzq428iV8r9\"></div></span></span>, <span class=\"magritte-button__icon___912gw_2-6-7\"><div aria-label=\"android\" class=\"mobile-app-button--GmJwG60xpK_HW3vngd_n mobile-app-button_android--iChEmjQ2ruzq428iV8r9\"></div></span>, <span class=\"magritte-button__content___BXYU0_2-6-7\"><span class=\"magritte-button__icon___912gw_2-6-7\"><div aria-label=\"huawei\" class=\"mobile-app-button--GmJwG60xpK_HW3vngd_n mobile-app-button_huawei--wUI9LROy4yDqzpL0C7iQ\"></div></span></span>, <span class=\"magritte-button__icon___912gw_2-6-7\"><div aria-label=\"huawei\" class=\"mobile-app-button--GmJwG60xpK_HW3vngd_n mobile-app-button_huawei--wUI9LROy4yDqzpL0C7iQ\"></div></span>, <span data-qa=\"footer-recommendTechInfo\">На информационном ресурсе hh.ru <a class=\"bloko-link bloko-link_kind-secondary bloko-link_underlined bloko-link_disable-visited\" href=\"/article/recommendation_technologies?hhtmFrom=vacancy\">применяются рекомендательные технологии</a> (информационные технологии предоставления информации на основе сбора, систематизации и анализа сведений, относящихся к предпочтениям пользователей сети «Интернет», находящихся на территории Российской Федерации)</span>, <span class=\"magritte-button__content___BXYU0_2-6-7\"><span class=\"magritte-button__icon___912gw_2-6-7\"><svg aria-label=\"vk\" class=\"magritte-icon___rRr4Q_5-4-5 magritte-icon_initial-primary___KhLAU_5-4-5\" fill=\"none\" focusable=\"false\" height=\"24\" role=\"img\" viewbox=\"0 0 24 24\" width=\"24\" xmlns=\"http://www.w3.org/2000/svg\"><path d=\"M13.0647 19C5.399 19 1.0267 13.7447 0.844513 5H4.68435C4.81048 11.4184 7.64124 14.1371 9.88348 14.6977V5H13.4992V10.5355C15.7135 10.2973 18.0395 7.77477 18.8243 5H22.44C21.8374 8.41942 19.3148 10.9419 17.521 11.979C19.3148 12.8198 22.1879 15.02 23.2809 19H19.3008C18.446 16.3373 16.3161 14.2773 13.4992 13.997V19H13.0647Z\" fill=\"var(--magritte-ui-icon-color)\"></path></svg></span></span>, <span class=\"magritte-button__icon___912gw_2-6-7\"><svg aria-label=\"vk\" class=\"magritte-icon___rRr4Q_5-4-5 magritte-icon_initial-primary___KhLAU_5-4-5\" fill=\"none\" focusable=\"false\" height=\"24\" role=\"img\" viewbox=\"0 0 24 24\" width=\"24\" xmlns=\"http://www.w3.org/2000/svg\"><path d=\"M13.0647 19C5.399 19 1.0267 13.7447 0.844513 5H4.68435C4.81048 11.4184 7.64124 14.1371 9.88348 14.6977V5H13.4992V10.5355C15.7135 10.2973 18.0395 7.77477 18.8243 5H22.44C21.8374 8.41942 19.3148 10.9419 17.521 11.979C19.3148 12.8198 22.1879 15.02 23.2809 19H19.3008C18.446 16.3373 16.3161 14.2773 13.4992 13.997V19H13.0647Z\" fill=\"var(--magritte-ui-icon-color)\"></path></svg></span>, <span class=\"magritte-button__content___BXYU0_2-6-7\"><span class=\"magritte-button__icon___912gw_2-6-7\"><svg aria-label=\"ok\" class=\"magritte-icon___rRr4Q_5-4-5 magritte-icon_initial-primary___KhLAU_5-4-5\" fill=\"none\" focusable=\"false\" height=\"24\" role=\"img\" viewbox=\"0 0 24 24\" width=\"24\" xmlns=\"http://www.w3.org/2000/svg\"><path clip-rule=\"evenodd\" d=\"M11.6692 12.3285C10.3318 12.3228 9.05087 11.7807 8.10522 10.8201C7.15957 9.85953 6.62585 8.55832 6.62031 7.19986C6.62381 5.83415 7.15467 4.52434 8.09878 3.55199C9.0429 2.57965 10.3249 2.02239 11.6692 2.00001C12.3384 1.99898 13.0012 2.1333 13.6188 2.39515C14.2364 2.65699 14.7965 3.04111 15.2664 3.52511C15.7364 4.00911 16.1068 4.58331 16.356 5.21421C16.6052 5.84513 16.7283 6.52012 16.7181 7.19986C16.7265 7.87574 16.6017 8.54651 16.351 9.17262C16.1003 9.79876 15.7287 10.3676 15.2582 10.8455C14.7876 11.3235 14.2277 11.7009 13.6113 11.9556C12.9949 12.2103 12.3346 12.3371 11.6692 12.3285ZM11.6692 5.06293C11.3869 5.06277 11.1075 5.12031 10.8476 5.23213C10.5877 5.34395 10.3526 5.50774 10.1563 5.7138C9.96 5.91983 9.80655 6.16388 9.70503 6.43143C9.60354 6.69897 9.55608 6.98453 9.56549 7.27108C9.56132 7.54961 9.61344 7.82602 9.7186 8.08328C9.82377 8.34054 9.97974 8.57314 10.1769 8.76676C10.3741 8.96035 10.6082 9.11082 10.8649 9.20887C11.1216 9.3069 11.3953 9.35045 11.6692 9.33677C11.9414 9.3434 12.2121 9.295 12.4657 9.19443C12.7193 9.09384 12.9506 8.94308 13.1464 8.75088C13.3421 8.55868 13.4983 8.32889 13.6059 8.07486C13.7134 7.82081 13.7702 7.54761 13.7729 7.27108C13.7823 6.98453 13.7348 6.69897 13.6333 6.43143C13.5318 6.16388 13.3784 5.91983 13.1821 5.7138C12.9858 5.50774 12.7507 5.34395 12.4908 5.23213C12.2309 5.12031 11.9515 5.06277 11.6692 5.06293ZM13.7028 16.6023L16.5778 19.4515C16.7114 19.5871 16.8174 19.7482 16.8897 19.9254C16.962 20.1026 16.9992 20.2926 16.9992 20.4844C16.9992 20.6762 16.962 20.8662 16.8897 21.0434C16.8174 21.2206 16.7114 21.3816 16.5778 21.5172C16.4534 21.6684 16.2979 21.7899 16.1222 21.8733C15.9465 21.9568 15.755 22 15.561 22C15.3671 22 15.1755 21.9568 14.9998 21.8733C14.8242 21.7899 14.6686 21.6684 14.5442 21.5172L11.6692 18.668L8.86427 21.5172C8.72784 21.6589 8.56382 21.77 8.3827 21.8436C8.20159 21.9172 8.00736 21.9516 7.81241 21.9446C7.42371 21.9299 7.05202 21.7789 6.76056 21.5172C6.62699 21.3816 6.52102 21.2206 6.44872 21.0434C6.37643 20.8662 6.33921 20.6762 6.33921 20.4844C6.33921 20.2926 6.37643 20.1026 6.44872 19.9254C6.52102 19.7482 6.62699 19.5871 6.76056 19.4515L9.70574 16.6023C8.65352 16.2684 7.64196 15.8144 6.69044 15.2489C6.36548 15.0325 6.13386 14.6984 6.04268 14.3147C5.9515 13.931 6.0076 13.5264 6.19958 13.1832C6.30658 13.0108 6.44701 12.8623 6.61231 12.7467C6.77761 12.6311 6.96433 12.5508 7.16112 12.5109C7.3579 12.4709 7.56064 12.472 7.75699 12.5141C7.95334 12.5562 8.1392 12.6385 8.30328 12.7558C9.32966 13.3847 10.5056 13.7171 11.7043 13.7171C12.9029 13.7171 14.0788 13.3847 15.1052 12.7558C15.2693 12.6385 15.4552 12.5562 15.6515 12.5141C15.8479 12.472 16.0506 12.4709 16.2474 12.5109C16.4442 12.5508 16.6309 12.6311 16.7962 12.7467C16.9615 12.8623 17.1019 13.0108 17.2089 13.1832C17.4077 13.5181 17.4749 13.9169 17.3969 14.2998C17.3189 14.6827 17.1015 15.0217 16.7882 15.2489C15.8122 15.8147 14.7774 16.2686 13.7028 16.6023Z\" fill=\"var(--magritte-ui-icon-color)\" fill-rule=\"evenodd\"></path></svg></span></span>, <span class=\"magritte-button__icon___912gw_2-6-7\"><svg aria-label=\"ok\" class=\"magritte-icon___rRr4Q_5-4-5 magritte-icon_initial-primary___KhLAU_5-4-5\" fill=\"none\" focusable=\"false\" height=\"24\" role=\"img\" viewbox=\"0 0 24 24\" width=\"24\" xmlns=\"http://www.w3.org/2000/svg\"><path clip-rule=\"evenodd\" d=\"M11.6692 12.3285C10.3318 12.3228 9.05087 11.7807 8.10522 10.8201C7.15957 9.85953 6.62585 8.55832 6.62031 7.19986C6.62381 5.83415 7.15467 4.52434 8.09878 3.55199C9.0429 2.57965 10.3249 2.02239 11.6692 2.00001C12.3384 1.99898 13.0012 2.1333 13.6188 2.39515C14.2364 2.65699 14.7965 3.04111 15.2664 3.52511C15.7364 4.00911 16.1068 4.58331 16.356 5.21421C16.6052 5.84513 16.7283 6.52012 16.7181 7.19986C16.7265 7.87574 16.6017 8.54651 16.351 9.17262C16.1003 9.79876 15.7287 10.3676 15.2582 10.8455C14.7876 11.3235 14.2277 11.7009 13.6113 11.9556C12.9949 12.2103 12.3346 12.3371 11.6692 12.3285ZM11.6692 5.06293C11.3869 5.06277 11.1075 5.12031 10.8476 5.23213C10.5877 5.34395 10.3526 5.50774 10.1563 5.7138C9.96 5.91983 9.80655 6.16388 9.70503 6.43143C9.60354 6.69897 9.55608 6.98453 9.56549 7.27108C9.56132 7.54961 9.61344 7.82602 9.7186 8.08328C9.82377 8.34054 9.97974 8.57314 10.1769 8.76676C10.3741 8.96035 10.6082 9.11082 10.8649 9.20887C11.1216 9.3069 11.3953 9.35045 11.6692 9.33677C11.9414 9.3434 12.2121 9.295 12.4657 9.19443C12.7193 9.09384 12.9506 8.94308 13.1464 8.75088C13.3421 8.55868 13.4983 8.32889 13.6059 8.07486C13.7134 7.82081 13.7702 7.54761 13.7729 7.27108C13.7823 6.98453 13.7348 6.69897 13.6333 6.43143C13.5318 6.16388 13.3784 5.91983 13.1821 5.7138C12.9858 5.50774 12.7507 5.34395 12.4908 5.23213C12.2309 5.12031 11.9515 5.06277 11.6692 5.06293ZM13.7028 16.6023L16.5778 19.4515C16.7114 19.5871 16.8174 19.7482 16.8897 19.9254C16.962 20.1026 16.9992 20.2926 16.9992 20.4844C16.9992 20.6762 16.962 20.8662 16.8897 21.0434C16.8174 21.2206 16.7114 21.3816 16.5778 21.5172C16.4534 21.6684 16.2979 21.7899 16.1222 21.8733C15.9465 21.9568 15.755 22 15.561 22C15.3671 22 15.1755 21.9568 14.9998 21.8733C14.8242 21.7899 14.6686 21.6684 14.5442 21.5172L11.6692 18.668L8.86427 21.5172C8.72784 21.6589 8.56382 21.77 8.3827 21.8436C8.20159 21.9172 8.00736 21.9516 7.81241 21.9446C7.42371 21.9299 7.05202 21.7789 6.76056 21.5172C6.62699 21.3816 6.52102 21.2206 6.44872 21.0434C6.37643 20.8662 6.33921 20.6762 6.33921 20.4844C6.33921 20.2926 6.37643 20.1026 6.44872 19.9254C6.52102 19.7482 6.62699 19.5871 6.76056 19.4515L9.70574 16.6023C8.65352 16.2684 7.64196 15.8144 6.69044 15.2489C6.36548 15.0325 6.13386 14.6984 6.04268 14.3147C5.9515 13.931 6.0076 13.5264 6.19958 13.1832C6.30658 13.0108 6.44701 12.8623 6.61231 12.7467C6.77761 12.6311 6.96433 12.5508 7.16112 12.5109C7.3579 12.4709 7.56064 12.472 7.75699 12.5141C7.95334 12.5562 8.1392 12.6385 8.30328 12.7558C9.32966 13.3847 10.5056 13.7171 11.7043 13.7171C12.9029 13.7171 14.0788 13.3847 15.1052 12.7558C15.2693 12.6385 15.4552 12.5562 15.6515 12.5141C15.8479 12.472 16.0506 12.4709 16.2474 12.5109C16.4442 12.5508 16.6309 12.6311 16.7962 12.7467C16.9615 12.8623 17.1019 13.0108 17.2089 13.1832C17.4077 13.5181 17.4749 13.9169 17.3969 14.2998C17.3189 14.6827 17.1015 15.0217 16.7882 15.2489C15.8122 15.8147 14.7774 16.2686 13.7028 16.6023Z\" fill=\"var(--magritte-ui-icon-color)\" fill-rule=\"evenodd\"></path></svg></span>, <span class=\"magritte-button__content___BXYU0_2-6-7\"><span class=\"magritte-button__icon___912gw_2-6-7\"><svg aria-label=\"dzen\" class=\"magritte-icon___rRr4Q_5-4-5 magritte-icon_initial-primary___KhLAU_5-4-5\" fill=\"none\" focusable=\"false\" height=\"24\" role=\"img\" viewbox=\"0 0 24 24\" width=\"24\" xmlns=\"http://www.w3.org/2000/svg\"><path d=\"M13.9286 13.9286C12.3571 15.55 12.2429 17.5714 12.1071 22C16.2357 22 19.0857 21.9857 20.5571 20.5571C21.9857 19.0857 22 16.1 22 12.1071C17.5714 12.25 15.55 12.3571 13.9286 13.9286ZM2 12.1071C2 16.1 2.01429 19.0857 3.44286 20.5571C4.91429 21.9857 7.76429 22 11.8929 22C11.75 17.5714 11.6429 15.55 10.0714 13.9286C8.45 12.3571 6.42857 12.2429 2 12.1071ZM11.8929 2C7.77143 2 4.91429 2.01429 3.44286 3.44286C2.01429 4.91429 2 7.9 2 11.8929C6.42857 11.75 8.45 11.6429 10.0714 10.0714C11.6429 8.45 11.7571 6.42857 11.8929 2ZM13.9286 10.0714C12.3571 8.45 12.2429 6.42857 12.1071 2C16.2357 2 19.0857 2.01429 20.5571 3.44286C21.9857 4.91429 22 7.9 22 11.8929C17.5714 11.75 15.55 11.6429 13.9286 10.0714Z\" fill=\"var(--magritte-ui-icon-color)\"></path></svg></span></span>, <span class=\"magritte-button__icon___912gw_2-6-7\"><svg aria-label=\"dzen\" class=\"magritte-icon___rRr4Q_5-4-5 magritte-icon_initial-primary___KhLAU_5-4-5\" fill=\"none\" focusable=\"false\" height=\"24\" role=\"img\" viewbox=\"0 0 24 24\" width=\"24\" xmlns=\"http://www.w3.org/2000/svg\"><path d=\"M13.9286 13.9286C12.3571 15.55 12.2429 17.5714 12.1071 22C16.2357 22 19.0857 21.9857 20.5571 20.5571C21.9857 19.0857 22 16.1 22 12.1071C17.5714 12.25 15.55 12.3571 13.9286 13.9286ZM2 12.1071C2 16.1 2.01429 19.0857 3.44286 20.5571C4.91429 21.9857 7.76429 22 11.8929 22C11.75 17.5714 11.6429 15.55 10.0714 13.9286C8.45 12.3571 6.42857 12.2429 2 12.1071ZM11.8929 2C7.77143 2 4.91429 2.01429 3.44286 3.44286C2.01429 4.91429 2 7.9 2 11.8929C6.42857 11.75 8.45 11.6429 10.0714 10.0714C11.6429 8.45 11.7571 6.42857 11.8929 2ZM13.9286 10.0714C12.3571 8.45 12.2429 6.42857 12.1071 2C16.2357 2 19.0857 2.01429 20.5571 3.44286C21.9857 4.91429 22 7.9 22 11.8929C17.5714 11.75 15.55 11.6429 13.9286 10.0714Z\" fill=\"var(--magritte-ui-icon-color)\"></path></svg></span>, <span class=\"magritte-button__content___BXYU0_2-6-7\"><span class=\"magritte-button__icon___912gw_2-6-7\"><svg aria-label=\"telegram\" class=\"magritte-icon___rRr4Q_5-4-5 magritte-icon_initial-primary___KhLAU_5-4-5\" fill=\"none\" focusable=\"false\" height=\"24\" role=\"img\" viewbox=\"0 0 24 24\" width=\"24\" xmlns=\"http://www.w3.org/2000/svg\"><path d=\"M0.306672 11.8508C2.38415 10.6572 4.70328 9.66064 6.87011 8.65994C10.5976 7.01963 14.3403 5.41026 18.1206 3.90921C18.8567 3.65337 20.1777 3.40371 20.3077 4.54058C20.2366 6.14995 19.9452 7.749 19.7442 9.34805C19.2365 12.866 18.6486 16.3705 18.0759 19.877C17.8789 21.0449 16.4756 21.6494 15.578 20.9015C13.4214 19.3818 11.2474 17.8777 9.11817 16.323C8.41958 15.5833 9.0674 14.5218 9.68983 13.9946C11.4668 12.1686 13.3513 10.617 15.0348 8.69708C15.4897 7.55299 14.1474 8.51758 13.7047 8.81263C11.2718 10.5602 8.89885 12.4151 6.335 13.9502C5.02516 14.7033 3.49802 14.0606 2.18818 13.6407C1.01439 13.1342 -0.705665 12.6235 0.306672 11.8508Z\" fill=\"var(--magritte-ui-icon-color)\"></path></svg></span></span>, <span class=\"magritte-button__icon___912gw_2-6-7\"><svg aria-label=\"telegram\" class=\"magritte-icon___rRr4Q_5-4-5 magritte-icon_initial-primary___KhLAU_5-4-5\" fill=\"none\" focusable=\"false\" height=\"24\" role=\"img\" viewbox=\"0 0 24 24\" width=\"24\" xmlns=\"http://www.w3.org/2000/svg\"><path d=\"M0.306672 11.8508C2.38415 10.6572 4.70328 9.66064 6.87011 8.65994C10.5976 7.01963 14.3403 5.41026 18.1206 3.90921C18.8567 3.65337 20.1777 3.40371 20.3077 4.54058C20.2366 6.14995 19.9452 7.749 19.7442 9.34805C19.2365 12.866 18.6486 16.3705 18.0759 19.877C17.8789 21.0449 16.4756 21.6494 15.578 20.9015C13.4214 19.3818 11.2474 17.8777 9.11817 16.323C8.41958 15.5833 9.0674 14.5218 9.68983 13.9946C11.4668 12.1686 13.3513 10.617 15.0348 8.69708C15.4897 7.55299 14.1474 8.51758 13.7047 8.81263C11.2718 10.5602 8.89885 12.4151 6.335 13.9502C5.02516 14.7033 3.49802 14.0606 2.18818 13.6407C1.01439 13.1342 -0.705665 12.6235 0.306672 11.8508Z\" fill=\"var(--magritte-ui-icon-color)\"></path></svg></span>, <span><!--noindex--></span>, <span><!--/noindex--></span>, <span class=\"magritte-text___pbpft_2-2-13 magritte-text_style-primary___AQ7MW_2-2-13 magritte-text_typography-label-3-regular___Nhtlp_2-2-13\"><span class=\"magritte-text___tkzIl_2-2-8\" data-qa=\"change-locale-EN-xs-text\">Switch to English<span class=\"footer-icon--n1aiaZYDlWYBMGkp0UXy footer-icon_lang-en--rgBuNdC64720KoixcvAq\"></span></span></span>, <span class=\"magritte-text___tkzIl_2-2-8\" data-qa=\"change-locale-EN-xs-text\">Switch to English<span class=\"footer-icon--n1aiaZYDlWYBMGkp0UXy footer-icon_lang-en--rgBuNdC64720KoixcvAq\"></span></span>, <span class=\"footer-icon--n1aiaZYDlWYBMGkp0UXy footer-icon_lang-en--rgBuNdC64720KoixcvAq\"></span>, <span><!--noindex--></span>, <span><!--/noindex--></span>, <span>© 2024 ООО «Хэдхантер»</span>]\n"
     ]
    }
   ],
   "source": [
    "print(get_count_viwers(93341729))"
   ]
  },
  {
   "cell_type": "code",
   "execution_count": 26,
   "id": "90792855-e625-4f4d-8423-3e298ea79b4a",
   "metadata": {},
   "outputs": [],
   "source": [
    "def init_csv_file_with_fields(file_name: str, fileds: list[str]) -> None:\n",
    "    with open(f\"{file_name}.csv\", \"w\", newline='') as f:\n",
    "        writer = csv.writer(f)\n",
    "        writer.writerow(fileds)"
   ]
  },
  {
   "cell_type": "code",
   "execution_count": 29,
   "id": "9f0d0bca-c77c-42d2-a391-053909049797",
   "metadata": {},
   "outputs": [],
   "source": [
    "def add_csv_row(file_name: str, row: list[str]) -> None:\n",
    "    with open(f\"{file_name}.csv\", \"a\", newline='') as f:\n",
    "        writer = csv.writer(f)\n",
    "        writer.writerow(row)"
   ]
  },
  {
   "cell_type": "code",
   "execution_count": 30,
   "id": "f06e263f-935e-4e41-8c94-a502a7bf2f8b",
   "metadata": {},
   "outputs": [],
   "source": [
    "params_python = {\n",
    "    \"text\": \"python junior\",\n",
    "    \"search_field\": [\"name\", \"description\"],\n",
    "    \"area\": 113,\n",
    "    \"per_page\": 100, \n",
    "    \"experience\": \"noExperience\",\n",
    "    \"currency\": \"RUR\",\n",
    "    \"date_from\": \"2024-02-15\",\n",
    "}"
   ]
  },
  {
   "cell_type": "code",
   "execution_count": 31,
   "id": "caacee9c-632c-4a88-9793-b5bba85e352b",
   "metadata": {},
   "outputs": [],
   "source": [
    "params_go = {\n",
    "    \"text\": \"go junior\",\n",
    "    \"search_field\": [\"name\", \"description\"],\n",
    "    \"area\": 113,\n",
    "    \"per_page\": 100, \n",
    "    \"experience\": \"noExperience\",\n",
    "    \"currency\": \"RUR\",\n",
    "    \"date_from\": \"2024-02-15\",\n",
    "}"
   ]
  },
  {
   "cell_type": "code",
   "execution_count": 32,
   "id": "3fdf42b9-a5bb-4c2f-b8a1-640cf7ac82f8",
   "metadata": {},
   "outputs": [],
   "source": [
    "params_java = {\n",
    "    \"text\": \"java junior\",\n",
    "    \"search_field\": [\"name\", \"description\"],\n",
    "    \"area\": 113,\n",
    "    \"per_page\": 100, \n",
    "    \"experience\": \"noExperience\",\n",
    "    \"currency\": \"RUR\",\n",
    "    \"date_from\": \"2024-02-15\",\n",
    "}"
   ]
  },
  {
   "cell_type": "code",
   "execution_count": 33,
   "id": "a13fdca6-b7b6-4274-81f8-77e34a137bd5",
   "metadata": {},
   "outputs": [],
   "source": [
    "params_cpp = {\n",
    "    \"text\": \"c++ junior\",\n",
    "    \"search_field\": [\"name\", \"description\"],\n",
    "    \"area\": 113,\n",
    "    \"per_page\": 100, \n",
    "    \"experience\": \"noExperience\",\n",
    "    \"currency\": \"RUR\",\n",
    "    \"date_from\": \"2024-02-15\",\n",
    "}"
   ]
  },
  {
   "cell_type": "code",
   "execution_count": 34,
   "id": "9e16396b-8bf7-466c-b1e1-2d3cac06387c",
   "metadata": {},
   "outputs": [],
   "source": [
    "params_js = {\n",
    "    \"text\": \"js junior\",\n",
    "    \"search_field\": [\"name\", \"description\"],\n",
    "    \"area\": 113,\n",
    "    \"per_page\": 100, \n",
    "    \"experience\": \"noExperience\",\n",
    "    \"currency\": \"RUR\",\n",
    "    \"date_from\": \"2024-02-15\",\n",
    "}"
   ]
  },
  {
   "cell_type": "code",
   "execution_count": 35,
   "id": "b100d210-483a-4d6c-9577-051db69bc487",
   "metadata": {},
   "outputs": [],
   "source": [
    "params_c_sharp = {\n",
    "    \"text\": \"c# junior\",\n",
    "    \"search_field\": [\"name\", \"description\"],\n",
    "    \"area\": 113,\n",
    "    \"per_page\": 100, \n",
    "    \"experience\": \"noExperience\",\n",
    "    \"currency\": \"RUR\",\n",
    "    \"date_from\": \"2024-02-15\",\n",
    "}"
   ]
  },
  {
   "cell_type": "code",
   "execution_count": 36,
   "id": "88c937ea-c5da-4910-a491-e6a6ed6ae52c",
   "metadata": {},
   "outputs": [],
   "source": [
    "params_r = {\n",
    "    \"text\": \"R junior\",\n",
    "    \"search_field\": [\"name\", \"description\"],\n",
    "    \"area\": 113,\n",
    "    \"per_page\": 100, \n",
    "    \"experience\": \"noExperience\",\n",
    "    \"currency\": \"RUR\",\n",
    "    \"date_from\": \"2024-02-15\",\n",
    "}"
   ]
  },
  {
   "cell_type": "code",
   "execution_count": 37,
   "id": "155fbdc3-7812-4fb0-bd91-aa0a9b658185",
   "metadata": {},
   "outputs": [],
   "source": [
    "params_rust = {\n",
    "    \"text\": \"rust junior\",\n",
    "    \"search_field\": [\"name\", \"description\"],\n",
    "    \"area\": 113,\n",
    "    \"per_page\": 100, \n",
    "    \"experience\": \"noExperience\",\n",
    "    \"currency\": \"RUR\",\n",
    "    \"date_from\": \"2024-02-15\",\n",
    "}"
   ]
  },
  {
   "cell_type": "code",
   "execution_count": 38,
   "id": "7c1b03c5-d81f-49d8-a769-ff8a6f6e1f98",
   "metadata": {},
   "outputs": [],
   "source": [
    "params_php = {\n",
    "    \"text\": \"php junior\",\n",
    "    \"search_field\": [\"name\", \"description\"],\n",
    "    \"area\": 113,\n",
    "    \"per_page\": 100, \n",
    "    \"experience\": \"noExperience\",\n",
    "    \"currency\": \"RUR\",\n",
    "    \"date_from\": \"2024-02-15\",\n",
    "}"
   ]
  },
  {
   "cell_type": "code",
   "execution_count": 39,
   "id": "9346269f-ea30-48b5-8e02-3f40c13b7012",
   "metadata": {},
   "outputs": [],
   "source": [
    "params_1c = {\n",
    "    \"text\": \"1c junior\",\n",
    "    \"search_field\": [\"name\", \"description\"],\n",
    "    \"area\": 113,\n",
    "    \"per_page\": 100, \n",
    "    \"experience\": \"noExperience\",\n",
    "    \"currency\": \"RUR\",\n",
    "    \"date_from\": \"2024-02-15\",\n",
    "}"
   ]
  },
  {
   "cell_type": "code",
   "execution_count": 40,
   "id": "dc8994ea-cc91-4844-964d-6088a02d0cb2",
   "metadata": {
    "scrolled": true
   },
   "outputs": [],
   "source": [
    "res = []"
   ]
  },
  {
   "cell_type": "code",
   "execution_count": 41,
   "id": "e8c4cb38-e647-46b6-9631-850fbe6272b3",
   "metadata": {},
   "outputs": [],
   "source": [
    "params_prog_lang = (\n",
    "    [params_python, \"Python\"],\n",
    "    [params_go, \"GO\"],\n",
    "    [params_java, \"Java\"],\n",
    "    [params_cpp, \"C++\"],\n",
    "    [params_js, \"JS\"],\n",
    "    [params_c_sharp, \"C#\"],\n",
    "    [params_r, \"R\"],\n",
    "    [params_rust, \"Rust\"],\n",
    "    [params_php, \"PHP\"],\n",
    "    [params_1c, \"1C\"],\n",
    ")"
   ]
  },
  {
   "cell_type": "code",
   "execution_count": 42,
   "id": "a9223867-aa11-4b56-942b-b4e6b4575129",
   "metadata": {},
   "outputs": [],
   "source": [
    "for params, prog_lang in params_prog_lang:\n",
    "    res += get_vacancies(params, prog_lang)"
   ]
  },
  {
   "cell_type": "code",
   "execution_count": 43,
   "id": "1bb12fb3-80e2-41d0-bd81-566b11e1ef84",
   "metadata": {},
   "outputs": [],
   "source": [
    "init_csv_file_with_fields(\"dataset\", [\"ID\", \"VACANCY_TITLE\", \"COMPANY_NAME\", \"SALARY\", \"CITY\", \"DATE\", \"PROGRAMMING_LANGUAGE\", \"VACANCY_URL\"])"
   ]
  },
  {
   "cell_type": "code",
   "execution_count": 44,
   "id": "0562cd9a-48f4-441b-a029-3df440e81cec",
   "metadata": {},
   "outputs": [],
   "source": [
    "for i in res:\n",
    "    add_csv_row(\"dataset\", i)"
   ]
  },
  {
   "cell_type": "code",
   "execution_count": null,
   "id": "4aee4ea6-ec6f-473b-a094-cdcae5c96344",
   "metadata": {},
   "outputs": [],
   "source": []
  }
 ],
 "metadata": {
  "kernelspec": {
   "display_name": "Python 3 (ipykernel)",
   "language": "python",
   "name": "python3"
  },
  "language_info": {
   "codemirror_mode": {
    "name": "ipython",
    "version": 3
   },
   "file_extension": ".py",
   "mimetype": "text/x-python",
   "name": "python",
   "nbconvert_exporter": "python",
   "pygments_lexer": "ipython3",
   "version": "3.11.2"
  }
 },
 "nbformat": 4,
 "nbformat_minor": 5
}
