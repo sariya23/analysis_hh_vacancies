{
 "cells": [
  {
   "cell_type": "markdown",
   "id": "0c1c0b12-a709-439a-8f6e-7769eb705c05",
   "metadata": {},
   "source": [
    "# Анализ востребованности у работодателей языков программирования в вакансиях на позицию Junior IT-специалиста"
   ]
  },
  {
   "cell_type": "code",
   "execution_count": 50,
   "id": "b6c3def8-6d41-43c6-be3f-3fab8d4c85f0",
   "metadata": {},
   "outputs": [],
   "source": [
    "import pandas as pd\n",
    "import matplotlib.pyplot as plt\n",
    "import seaborn as sns"
   ]
  },
  {
   "cell_type": "code",
   "execution_count": 10,
   "id": "f88279ef-98c8-4847-a433-36d793ee5ad9",
   "metadata": {},
   "outputs": [],
   "source": [
    "df = pd.read_csv(\"dataset.csv\")"
   ]
  },
  {
   "cell_type": "code",
   "execution_count": 11,
   "id": "6578d938-1ec8-49eb-8dee-f33fa0ebfdd1",
   "metadata": {},
   "outputs": [
    {
     "data": {
      "text/html": [
       "<div>\n",
       "<style scoped>\n",
       "    .dataframe tbody tr th:only-of-type {\n",
       "        vertical-align: middle;\n",
       "    }\n",
       "\n",
       "    .dataframe tbody tr th {\n",
       "        vertical-align: top;\n",
       "    }\n",
       "\n",
       "    .dataframe thead th {\n",
       "        text-align: right;\n",
       "    }\n",
       "</style>\n",
       "<table border=\"1\" class=\"dataframe\">\n",
       "  <thead>\n",
       "    <tr style=\"text-align: right;\">\n",
       "      <th></th>\n",
       "      <th>ID</th>\n",
       "      <th>VACANCY_TITLE</th>\n",
       "      <th>COMPANY_NAME</th>\n",
       "      <th>SALARY</th>\n",
       "      <th>CITY</th>\n",
       "      <th>DATE</th>\n",
       "      <th>PROGRAMMING_LANGUAGE</th>\n",
       "      <th>VACANCY_URL</th>\n",
       "    </tr>\n",
       "  </thead>\n",
       "  <tbody>\n",
       "    <tr>\n",
       "      <th>0</th>\n",
       "      <td>94354526</td>\n",
       "      <td>Стажер-разработчик Python</td>\n",
       "      <td>Додо Пицца</td>\n",
       "      <td>150000.0</td>\n",
       "      <td>Ростов-на-Дону</td>\n",
       "      <td>2024-03-06</td>\n",
       "      <td>Python</td>\n",
       "      <td>https://hh.ru/vacancy/94354526</td>\n",
       "    </tr>\n",
       "    <tr>\n",
       "      <th>1</th>\n",
       "      <td>94450348</td>\n",
       "      <td>Junior Frontend разработчик</td>\n",
       "      <td>EasyDev</td>\n",
       "      <td>60000.0</td>\n",
       "      <td>Москва</td>\n",
       "      <td>2024-03-09</td>\n",
       "      <td>Python</td>\n",
       "      <td>https://hh.ru/vacancy/94450348</td>\n",
       "    </tr>\n",
       "    <tr>\n",
       "      <th>2</th>\n",
       "      <td>94228875</td>\n",
       "      <td>Junior Frontend разработчик</td>\n",
       "      <td>MacBuildServer</td>\n",
       "      <td>50000.0</td>\n",
       "      <td>Самара</td>\n",
       "      <td>2024-03-07</td>\n",
       "      <td>Python</td>\n",
       "      <td>https://hh.ru/vacancy/94228875</td>\n",
       "    </tr>\n",
       "    <tr>\n",
       "      <th>3</th>\n",
       "      <td>94120837</td>\n",
       "      <td>Python junior разработчик</td>\n",
       "      <td>Скиллтеллект</td>\n",
       "      <td>50000.0</td>\n",
       "      <td>Санкт-Петербург</td>\n",
       "      <td>2024-03-01</td>\n",
       "      <td>Python</td>\n",
       "      <td>https://hh.ru/vacancy/94120837</td>\n",
       "    </tr>\n",
       "    <tr>\n",
       "      <th>4</th>\n",
       "      <td>94293788</td>\n",
       "      <td>Junior Python-разработчик</td>\n",
       "      <td>СОГАЗ</td>\n",
       "      <td>NaN</td>\n",
       "      <td>Москва</td>\n",
       "      <td>2024-03-06</td>\n",
       "      <td>Python</td>\n",
       "      <td>https://hh.ru/vacancy/94293788</td>\n",
       "    </tr>\n",
       "  </tbody>\n",
       "</table>\n",
       "</div>"
      ],
      "text/plain": [
       "         ID                VACANCY_TITLE    COMPANY_NAME    SALARY  \\\n",
       "0  94354526    Стажер-разработчик Python      Додо Пицца  150000.0   \n",
       "1  94450348  Junior Frontend разработчик         EasyDev   60000.0   \n",
       "2  94228875  Junior Frontend разработчик  MacBuildServer   50000.0   \n",
       "3  94120837    Python junior разработчик    Скиллтеллект   50000.0   \n",
       "4  94293788    Junior Python-разработчик           СОГАЗ       NaN   \n",
       "\n",
       "              CITY        DATE PROGRAMMING_LANGUAGE  \\\n",
       "0   Ростов-на-Дону  2024-03-06               Python   \n",
       "1           Москва  2024-03-09               Python   \n",
       "2           Самара  2024-03-07               Python   \n",
       "3  Санкт-Петербург  2024-03-01               Python   \n",
       "4           Москва  2024-03-06               Python   \n",
       "\n",
       "                      VACANCY_URL  \n",
       "0  https://hh.ru/vacancy/94354526  \n",
       "1  https://hh.ru/vacancy/94450348  \n",
       "2  https://hh.ru/vacancy/94228875  \n",
       "3  https://hh.ru/vacancy/94120837  \n",
       "4  https://hh.ru/vacancy/94293788  "
      ]
     },
     "execution_count": 11,
     "metadata": {},
     "output_type": "execute_result"
    }
   ],
   "source": [
    "df.head()"
   ]
  },
  {
   "cell_type": "markdown",
   "id": "7865eb5e-479e-4c8f-bcd9-975898cbb466",
   "metadata": {},
   "source": [
    "# Подготовка данных"
   ]
  },
  {
   "cell_type": "markdown",
   "id": "cf44488c-b1d8-4421-8de9-b2550a188d88",
   "metadata": {},
   "source": [
    "### Заполняем пропуски"
   ]
  },
  {
   "cell_type": "code",
   "execution_count": 17,
   "id": "68a1a81b-e053-4ae6-ada2-b070941122ea",
   "metadata": {},
   "outputs": [
    {
     "data": {
      "text/plain": [
       "30.15463917525773"
      ]
     },
     "execution_count": 17,
     "metadata": {},
     "output_type": "execute_result"
    }
   ],
   "source": [
    "(df['SALARY'].isna().sum()) / len(df) * 100"
   ]
  },
  {
   "cell_type": "code",
   "execution_count": 20,
   "id": "82112ef3-8753-4222-b58d-35a8adf4b526",
   "metadata": {},
   "outputs": [],
   "source": [
    "avg_salary = df[\"SALARY\"].mean().round()"
   ]
  },
  {
   "cell_type": "code",
   "execution_count": 21,
   "id": "8dbbee6c-7ae2-49d2-9a2a-8c1d8baab3ac",
   "metadata": {},
   "outputs": [
    {
     "data": {
      "text/plain": [
       "73872.0"
      ]
     },
     "execution_count": 21,
     "metadata": {},
     "output_type": "execute_result"
    }
   ],
   "source": [
    "avg_salary"
   ]
  },
  {
   "cell_type": "code",
   "execution_count": 23,
   "id": "f8b2a0ad-f4be-4b90-ac49-475b0630005d",
   "metadata": {},
   "outputs": [],
   "source": [
    "df[\"SALARY\"] = df[\"SALARY\"].fillna(avg_salary)"
   ]
  },
  {
   "cell_type": "code",
   "execution_count": 24,
   "id": "6adbf99d-f874-42a6-95d5-495c1fe82055",
   "metadata": {},
   "outputs": [
    {
     "data": {
      "text/plain": [
       "0.0"
      ]
     },
     "execution_count": 24,
     "metadata": {},
     "output_type": "execute_result"
    }
   ],
   "source": [
    "(df['SALARY'].isna().sum()) / len(df) * 100"
   ]
  },
  {
   "cell_type": "code",
   "execution_count": 25,
   "id": "279a8d34-6f63-4b20-a2e5-68949822cd40",
   "metadata": {},
   "outputs": [
    {
     "data": {
      "text/html": [
       "<div>\n",
       "<style scoped>\n",
       "    .dataframe tbody tr th:only-of-type {\n",
       "        vertical-align: middle;\n",
       "    }\n",
       "\n",
       "    .dataframe tbody tr th {\n",
       "        vertical-align: top;\n",
       "    }\n",
       "\n",
       "    .dataframe thead th {\n",
       "        text-align: right;\n",
       "    }\n",
       "</style>\n",
       "<table border=\"1\" class=\"dataframe\">\n",
       "  <thead>\n",
       "    <tr style=\"text-align: right;\">\n",
       "      <th></th>\n",
       "      <th>ID</th>\n",
       "      <th>VACANCY_TITLE</th>\n",
       "      <th>COMPANY_NAME</th>\n",
       "      <th>SALARY</th>\n",
       "      <th>CITY</th>\n",
       "      <th>DATE</th>\n",
       "      <th>PROGRAMMING_LANGUAGE</th>\n",
       "      <th>VACANCY_URL</th>\n",
       "    </tr>\n",
       "  </thead>\n",
       "  <tbody>\n",
       "    <tr>\n",
       "      <th>0</th>\n",
       "      <td>94354526</td>\n",
       "      <td>Стажер-разработчик Python</td>\n",
       "      <td>Додо Пицца</td>\n",
       "      <td>150000.0</td>\n",
       "      <td>Ростов-на-Дону</td>\n",
       "      <td>2024-03-06</td>\n",
       "      <td>Python</td>\n",
       "      <td>https://hh.ru/vacancy/94354526</td>\n",
       "    </tr>\n",
       "    <tr>\n",
       "      <th>1</th>\n",
       "      <td>94450348</td>\n",
       "      <td>Junior Frontend разработчик</td>\n",
       "      <td>EasyDev</td>\n",
       "      <td>60000.0</td>\n",
       "      <td>Москва</td>\n",
       "      <td>2024-03-09</td>\n",
       "      <td>Python</td>\n",
       "      <td>https://hh.ru/vacancy/94450348</td>\n",
       "    </tr>\n",
       "    <tr>\n",
       "      <th>2</th>\n",
       "      <td>94228875</td>\n",
       "      <td>Junior Frontend разработчик</td>\n",
       "      <td>MacBuildServer</td>\n",
       "      <td>50000.0</td>\n",
       "      <td>Самара</td>\n",
       "      <td>2024-03-07</td>\n",
       "      <td>Python</td>\n",
       "      <td>https://hh.ru/vacancy/94228875</td>\n",
       "    </tr>\n",
       "    <tr>\n",
       "      <th>3</th>\n",
       "      <td>94120837</td>\n",
       "      <td>Python junior разработчик</td>\n",
       "      <td>Скиллтеллект</td>\n",
       "      <td>50000.0</td>\n",
       "      <td>Санкт-Петербург</td>\n",
       "      <td>2024-03-01</td>\n",
       "      <td>Python</td>\n",
       "      <td>https://hh.ru/vacancy/94120837</td>\n",
       "    </tr>\n",
       "    <tr>\n",
       "      <th>4</th>\n",
       "      <td>94293788</td>\n",
       "      <td>Junior Python-разработчик</td>\n",
       "      <td>СОГАЗ</td>\n",
       "      <td>73872.0</td>\n",
       "      <td>Москва</td>\n",
       "      <td>2024-03-06</td>\n",
       "      <td>Python</td>\n",
       "      <td>https://hh.ru/vacancy/94293788</td>\n",
       "    </tr>\n",
       "  </tbody>\n",
       "</table>\n",
       "</div>"
      ],
      "text/plain": [
       "         ID                VACANCY_TITLE    COMPANY_NAME    SALARY  \\\n",
       "0  94354526    Стажер-разработчик Python      Додо Пицца  150000.0   \n",
       "1  94450348  Junior Frontend разработчик         EasyDev   60000.0   \n",
       "2  94228875  Junior Frontend разработчик  MacBuildServer   50000.0   \n",
       "3  94120837    Python junior разработчик    Скиллтеллект   50000.0   \n",
       "4  94293788    Junior Python-разработчик           СОГАЗ   73872.0   \n",
       "\n",
       "              CITY        DATE PROGRAMMING_LANGUAGE  \\\n",
       "0   Ростов-на-Дону  2024-03-06               Python   \n",
       "1           Москва  2024-03-09               Python   \n",
       "2           Самара  2024-03-07               Python   \n",
       "3  Санкт-Петербург  2024-03-01               Python   \n",
       "4           Москва  2024-03-06               Python   \n",
       "\n",
       "                      VACANCY_URL  \n",
       "0  https://hh.ru/vacancy/94354526  \n",
       "1  https://hh.ru/vacancy/94450348  \n",
       "2  https://hh.ru/vacancy/94228875  \n",
       "3  https://hh.ru/vacancy/94120837  \n",
       "4  https://hh.ru/vacancy/94293788  "
      ]
     },
     "execution_count": 25,
     "metadata": {},
     "output_type": "execute_result"
    }
   ],
   "source": [
    "df.head()"
   ]
  },
  {
   "cell_type": "markdown",
   "id": "a20fe8d7-0f45-4573-be1b-19175efc827a",
   "metadata": {},
   "source": [
    "### Проверка дубликатов"
   ]
  },
  {
   "cell_type": "code",
   "execution_count": 27,
   "id": "af1ed6c8-9438-4602-b9b5-8b3043562bbb",
   "metadata": {},
   "outputs": [
    {
     "data": {
      "text/plain": [
       "0"
      ]
     },
     "execution_count": 27,
     "metadata": {},
     "output_type": "execute_result"
    }
   ],
   "source": [
    "df.duplicated().sum()"
   ]
  },
  {
   "cell_type": "markdown",
   "id": "a76cce85-b1a5-4657-9293-94b6308c452f",
   "metadata": {},
   "source": [
    "Дубликатов в записях нет"
   ]
  },
  {
   "cell_type": "markdown",
   "id": "680050c4-b8ee-4964-8886-45eea7557e2d",
   "metadata": {},
   "source": [
    "## Определяем самый востребованный у работодателей язык программирования среди junior-специалистов"
   ]
  },
  {
   "cell_type": "code",
   "execution_count": 28,
   "id": "414af21b-d94b-47ee-90b9-5a5ed5ea8f9f",
   "metadata": {},
   "outputs": [],
   "source": [
    "prog_langs = df[\"PROGRAMMING_LANGUAGE\"].unique()"
   ]
  },
  {
   "cell_type": "code",
   "execution_count": 40,
   "id": "417f0a54-ff7f-4034-beb8-b9209638bbe9",
   "metadata": {},
   "outputs": [],
   "source": [
    "df_prog_langs = pd.DataFrame(\n",
    "    {\n",
    "        \"Python\": len(df.loc[df[\"PROGRAMMING_LANGUAGE\"] == \"Python\"]),\n",
    "        \"GO\": len(df.loc[df[\"PROGRAMMING_LANGUAGE\"] == \"GO\"]),\n",
    "        \"Java\": len(df.loc[df[\"PROGRAMMING_LANGUAGE\"] == \"Java\"]),\n",
    "        \"C++\": len(df.loc[df[\"PROGRAMMING_LANGUAGE\"] == \"C++\"]),\n",
    "        \"JS\": len(df.loc[df[\"PROGRAMMING_LANGUAGE\"] == \"JS\"]),\n",
    "        \"C#\": len(df.loc[df[\"PROGRAMMING_LANGUAGE\"] == \"C#\"]),\n",
    "        \"R\": len(df.loc[df[\"PROGRAMMING_LANGUAGE\"] == \"R\"]),\n",
    "        \"Rust\": len(df.loc[df[\"PROGRAMMING_LANGUAGE\"] == \"Rust\"]),\n",
    "        \"PHP\": len(df.loc[df[\"PROGRAMMING_LANGUAGE\"] == \"PHP\"]),\n",
    "        \"1C\": len(df.loc[df[\"PROGRAMMING_LANGUAGE\"] == \"1C\"]),\n",
    "    },\n",
    "    index=['amount']\n",
    ")"
   ]
  },
  {
   "cell_type": "code",
   "execution_count": 41,
   "id": "a86304f3-cf64-412d-8d62-d7144ecfd8e6",
   "metadata": {},
   "outputs": [
    {
     "data": {
      "text/html": [
       "<div>\n",
       "<style scoped>\n",
       "    .dataframe tbody tr th:only-of-type {\n",
       "        vertical-align: middle;\n",
       "    }\n",
       "\n",
       "    .dataframe tbody tr th {\n",
       "        vertical-align: top;\n",
       "    }\n",
       "\n",
       "    .dataframe thead th {\n",
       "        text-align: right;\n",
       "    }\n",
       "</style>\n",
       "<table border=\"1\" class=\"dataframe\">\n",
       "  <thead>\n",
       "    <tr style=\"text-align: right;\">\n",
       "      <th></th>\n",
       "      <th>Python</th>\n",
       "      <th>GO</th>\n",
       "      <th>Java</th>\n",
       "      <th>C++</th>\n",
       "      <th>JS</th>\n",
       "      <th>C#</th>\n",
       "      <th>R</th>\n",
       "      <th>Rust</th>\n",
       "      <th>PHP</th>\n",
       "      <th>1C</th>\n",
       "    </tr>\n",
       "  </thead>\n",
       "  <tbody>\n",
       "    <tr>\n",
       "      <th>amount</th>\n",
       "      <td>68</td>\n",
       "      <td>15</td>\n",
       "      <td>38</td>\n",
       "      <td>32</td>\n",
       "      <td>50</td>\n",
       "      <td>41</td>\n",
       "      <td>10</td>\n",
       "      <td>4</td>\n",
       "      <td>30</td>\n",
       "      <td>100</td>\n",
       "    </tr>\n",
       "  </tbody>\n",
       "</table>\n",
       "</div>"
      ],
      "text/plain": [
       "        Python  GO  Java  C++  JS  C#   R  Rust  PHP   1C\n",
       "amount      68  15    38   32  50  41  10     4   30  100"
      ]
     },
     "execution_count": 41,
     "metadata": {},
     "output_type": "execute_result"
    }
   ],
   "source": [
    "df_prog_langs"
   ]
  },
  {
   "cell_type": "code",
   "execution_count": 76,
   "id": "f355436e-e94c-447f-bc48-108c2eaba2bf",
   "metadata": {},
   "outputs": [],
   "source": [
    "def create_bar_chart(row, color):    \n",
    "    return sns.barplot(\n",
    "        y=row.index.str.capitalize().values,\n",
    "        x=row.values,\n",
    "        orient=\"h\",\n",
    "        saturation=1,\n",
    "        color=color,\n",
    "        width=0.75,\n",
    "    )"
   ]
  },
  {
   "cell_type": "code",
   "execution_count": 77,
   "id": "65ddb9eb-f8b9-4cba-9b09-3524793d8ef7",
   "metadata": {},
   "outputs": [],
   "source": [
    "def set_seaborn_style(background_color, grid_color, text_color):\n",
    "    sns.set_style({\n",
    "        \"axes.facecolor\": background_color,\n",
    "        \"figure.facecolor\": background_color,\n",
    "\n",
    "        \"grid.color\": grid_color,\n",
    "        \"axes.edgecolor\": grid_color,\n",
    "        \"axes.grid\": True,\n",
    "        \"axes.axisbelow\": True,\n",
    "        \n",
    "        \"axes.labelcolor\": text_color,\n",
    "        \"text.color\": text_color,\n",
    "        \"xtick.color\": text_color,\n",
    "        \"ytick.color\": text_color,\n",
    "\n",
    "        \"xtick.bottom\": False,\n",
    "        \"xtick.top\": False,\n",
    "        \"ytick.left\": False,\n",
    "        \"ytick.right\": False,\n",
    "\n",
    "        \"axes.spines.left\": False,\n",
    "        \"axes.spines.bottom\": True,\n",
    "        \"axes.spines.right\": False,\n",
    "        \"axes.spines.top\": False,\n",
    "    }\n",
    ")"
   ]
  },
  {
   "cell_type": "code",
   "execution_count": 78,
   "id": "b53f4de6-5a40-4afb-83e9-c0ba0de901a9",
   "metadata": {},
   "outputs": [],
   "source": [
    "background_color = \"#2F195F\"\n",
    "grid_color = \"#582FB1\"\n",
    "bar_color = \"#835ED4\"\n",
    "text_color = \"#eee\"\n",
    "\n",
    "set_seaborn_style(background_color, grid_color, text_color)"
   ]
  },
  {
   "cell_type": "code",
   "execution_count": 79,
   "id": "2bf2bd35-f558-4b6a-89b0-35fb5775be98",
   "metadata": {},
   "outputs": [],
   "source": [
    "def format_axes(ax):\n",
    "    ax.tick_params(\"x\", labelsize=20, pad=16)\n",
    "    ax.tick_params(\"y\", labelsize=20, pad=8)\n",
    "    \n",
    "    plt.xticks(\n",
    "        ticks=ax.get_xticks()[:-1],\n",
    "        labels=[\"{}\".format(x) for x in ax.get_xticks()[:-1]]\n",
    "    )"
   ]
  },
  {
   "cell_type": "code",
   "execution_count": 80,
   "id": "b91f1270-c12f-4ce0-9b5b-ce87579ad15e",
   "metadata": {},
   "outputs": [
    {
     "data": {
      "image/png": "[encoded data removed]",
      "text/plain": [
       "<Figure size 1200x700 with 1 Axes>"
      ]
     },
     "metadata": {},
     "output_type": "display_data"
    }
   ],
   "source": [
    "row = df_prog_langs.iloc[-1]\n",
    "\n",
    "fig = plt.figure(figsize=(12, 7))\n",
    "ax = create_bar_chart(row, color=bar_color)\n",
    "\n",
    "# New function\n",
    "format_axes(ax)\n",
    "\n",
    "plt.title(\"Количество вакансий на junior-позицию\", fontsize=34, y=1.2, x=0.46)\n",
    "plt.tight_layout()\n",
    "plt.show()"
   ]
  },
  {
   "cell_type": "markdown",
   "id": "feb75a3a-bc78-477e-9a91-041f3412ce34",
   "metadata": {},
   "source": [
    "На графике видо, что больше всего junior-специалистов требуется по языку 1C."
   ]
  },
  {
   "cell_type": "markdown",
   "id": "99b33753-3dec-412f-9d47-3c25f1c0a45a",
   "metadata": {},
   "source": [
    "Проверим средние зарплаты по каждому из языков"
   ]
  },
  {
   "cell_type": "code",
   "execution_count": 81,
   "id": "0150df23-2447-4659-8b22-068cfa1a702c",
   "metadata": {},
   "outputs": [],
   "source": [
    "df_prog_langs_salary = pd.DataFrame(\n",
    "    {\n",
    "        \"Python\": df.loc[df[\"PROGRAMMING_LANGUAGE\"] == \"Python\"][\"SALARY\"].mean(),\n",
    "        \"GO\": df.loc[df[\"PROGRAMMING_LANGUAGE\"] == \"GO\"][\"SALARY\"].mean(),\n",
    "        \"Java\": df.loc[df[\"PROGRAMMING_LANGUAGE\"] == \"Java\"][\"SALARY\"].mean(),\n",
    "        \"C++\": df.loc[df[\"PROGRAMMING_LANGUAGE\"] == \"C++\"][\"SALARY\"].mean(),\n",
    "        \"JS\": df.loc[df[\"PROGRAMMING_LANGUAGE\"] == \"JS\"][\"SALARY\"].mean(),\n",
    "        \"C#\": df.loc[df[\"PROGRAMMING_LANGUAGE\"] == \"C#\"][\"SALARY\"].mean(),\n",
    "        \"R\": df.loc[df[\"PROGRAMMING_LANGUAGE\"] == \"R\"][\"SALARY\"].mean(),\n",
    "        \"Rust\": df.loc[df[\"PROGRAMMING_LANGUAGE\"] == \"Rust\"][\"SALARY\"].mean(),\n",
    "        \"PHP\": df.loc[df[\"PROGRAMMING_LANGUAGE\"] == \"PHP\"][\"SALARY\"].mean(),\n",
    "        \"1C\": df.loc[df[\"PROGRAMMING_LANGUAGE\"] == \"1C\"][\"SALARY\"].mean(),\n",
    "    },\n",
    "    index=['mean_salary']\n",
    ")"
   ]
  },
  {
   "cell_type": "code",
   "execution_count": 82,
   "id": "a8866d74-443e-451e-b4ae-50a69de20963",
   "metadata": {},
   "outputs": [
    {
     "data": {
      "text/html": [
       "<div>\n",
       "<style scoped>\n",
       "    .dataframe tbody tr th:only-of-type {\n",
       "        vertical-align: middle;\n",
       "    }\n",
       "\n",
       "    .dataframe tbody tr th {\n",
       "        vertical-align: top;\n",
       "    }\n",
       "\n",
       "    .dataframe thead th {\n",
       "        text-align: right;\n",
       "    }\n",
       "</style>\n",
       "<table border=\"1\" class=\"dataframe\">\n",
       "  <thead>\n",
       "    <tr style=\"text-align: right;\">\n",
       "      <th></th>\n",
       "      <th>Python</th>\n",
       "      <th>GO</th>\n",
       "      <th>Java</th>\n",
       "      <th>C++</th>\n",
       "      <th>JS</th>\n",
       "      <th>C#</th>\n",
       "      <th>R</th>\n",
       "      <th>Rust</th>\n",
       "      <th>PHP</th>\n",
       "      <th>1C</th>\n",
       "    </tr>\n",
       "  </thead>\n",
       "  <tbody>\n",
       "    <tr>\n",
       "      <th>mean_salary</th>\n",
       "      <td>72182.426471</td>\n",
       "      <td>75466.533333</td>\n",
       "      <td>77863.789474</td>\n",
       "      <td>82951.65625</td>\n",
       "      <td>72549.28</td>\n",
       "      <td>76226.853659</td>\n",
       "      <td>59361.6</td>\n",
       "      <td>73468.0</td>\n",
       "      <td>64261.6</td>\n",
       "      <td>74404.58</td>\n",
       "    </tr>\n",
       "  </tbody>\n",
       "</table>\n",
       "</div>"
      ],
      "text/plain": [
       "                   Python            GO          Java          C++        JS  \\\n",
       "mean_salary  72182.426471  75466.533333  77863.789474  82951.65625  72549.28   \n",
       "\n",
       "                       C#        R     Rust      PHP        1C  \n",
       "mean_salary  76226.853659  59361.6  73468.0  64261.6  74404.58  "
      ]
     },
     "execution_count": 82,
     "metadata": {},
     "output_type": "execute_result"
    }
   ],
   "source": [
    "df_prog_langs_salary"
   ]
  },
  {
   "cell_type": "code",
   "execution_count": 85,
   "id": "0e283083-2e23-4ef6-945b-730132f99879",
   "metadata": {},
   "outputs": [],
   "source": [
    "def format_axes(ax):\n",
    "    ax.tick_params(\"x\", labelsize=20, pad=16)\n",
    "    ax.tick_params(\"y\", labelsize=20, pad=8)\n",
    "    \n",
    "    plt.xticks(\n",
    "        ticks=ax.get_xticks()[:-1],\n",
    "        labels=[\"{}K\".format(int(x / 1000)) for x in ax.get_xticks()[:-1]]\n",
    "    )"
   ]
  },
  {
   "cell_type": "code",
   "execution_count": 86,
   "id": "79645039-b481-4316-beb4-1478e37ed3e8",
   "metadata": {},
   "outputs": [
    {
     "data": {
      "image/png": "[encoded data removed]",
      "text/plain": [
       "<Figure size 1200x700 with 1 Axes>"
      ]
     },
     "metadata": {},
     "output_type": "display_data"
    }
   ],
   "source": [
    "row = df_prog_langs_salary.iloc[-1]\n",
    "\n",
    "fig = plt.figure(figsize=(12, 7))\n",
    "ax = create_bar_chart(row, color=bar_color)\n",
    "\n",
    "# New function\n",
    "format_axes(ax)\n",
    "\n",
    "plt.title(\"Средние зарплаты по каждому из языков программирования\", fontsize=34, y=1.2, x=0.46)\n",
    "plt.tight_layout()\n",
    "plt.show()"
   ]
  },
  {
   "cell_type": "code",
   "execution_count": 94,
   "id": "4b477ce7-bd46-4521-a0a0-f3caabf5d240",
   "metadata": {},
   "outputs": [
    {
     "data": {
      "text/plain": [
       "'Средняя зарплата по рынку: 73872.0 руб.'"
      ]
     },
     "execution_count": 94,
     "metadata": {},
     "output_type": "execute_result"
    }
   ],
   "source": [
    "f\"Средняя зарплата по рынку: {df['SALARY'].mean().round()} руб.\""
   ]
  },
  {
   "cell_type": "code",
   "execution_count": 95,
   "id": "7b833c3b-4a70-46c6-bfa4-66aa2b17d0fa",
   "metadata": {},
   "outputs": [
    {
     "data": {
      "text/plain": [
       "41879.783907530764"
      ]
     },
     "execution_count": 95,
     "metadata": {},
     "output_type": "execute_result"
    }
   ],
   "source": [
    "df[\"SALARY\"].std()"
   ]
  },
  {
   "cell_type": "markdown",
   "id": "e3665d70-929b-48ce-8cd1-c19017b2df16",
   "metadata": {},
   "source": [
    "Самые высокие зарплаты в месяц мы видим у C++. 1C же находится на 4 месте. Если работодатели имеют кадровый недостаток в 1С разработчиках, но не повышают ЗП, а предлагают среднюю зарплату по рынку (~74К руб.), то можно сделать вывод, что "
   ]
  }
 ],
 "metadata": {
  "kernelspec": {
   "display_name": "Python 3 (ipykernel)",
   "language": "python",
   "name": "python3"
  },
  "language_info": {
   "codemirror_mode": {
    "name": "ipython",
    "version": 3
   },
   "file_extension": ".py",
   "mimetype": "text/x-python",
   "name": "python",
   "nbconvert_exporter": "python",
   "pygments_lexer": "ipython3",
   "version": "3.11.2"
  }
 },
 "nbformat": 4,
 "nbformat_minor": 5
}
