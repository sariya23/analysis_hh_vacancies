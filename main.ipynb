{
 "cells": [
  {
   "cell_type": "code",
   "execution_count": 9,
   "id": "b6c3def8-6d41-43c6-be3f-3fab8d4c85f0",
   "metadata": {},
   "outputs": [],
   "source": [
    "import pandas as pd"
   ]
  },
  {
   "cell_type": "code",
   "execution_count": 10,
   "id": "f88279ef-98c8-4847-a433-36d793ee5ad9",
   "metadata": {},
   "outputs": [],
   "source": [
    "df = pd.read_csv(\"dataset.csv\")"
   ]
  },
  {
   "cell_type": "code",
   "execution_count": 11,
   "id": "6578d938-1ec8-49eb-8dee-f33fa0ebfdd1",
   "metadata": {},
   "outputs": [
    {
     "data": {
      "text/html": [
       "<div>\n",
       "<style scoped>\n",
       "    .dataframe tbody tr th:only-of-type {\n",
       "        vertical-align: middle;\n",
       "    }\n",
       "\n",
       "    .dataframe tbody tr th {\n",
       "        vertical-align: top;\n",
       "    }\n",
       "\n",
       "    .dataframe thead th {\n",
       "        text-align: right;\n",
       "    }\n",
       "</style>\n",
       "<table border=\"1\" class=\"dataframe\">\n",
       "  <thead>\n",
       "    <tr style=\"text-align: right;\">\n",
       "      <th></th>\n",
       "      <th>ID</th>\n",
       "      <th>VACANCY_TITLE</th>\n",
       "      <th>COMPANY_NAME</th>\n",
       "      <th>SALARY</th>\n",
       "      <th>CITY</th>\n",
       "      <th>DATE</th>\n",
       "      <th>PROGRAMMING_LANGUAGE</th>\n",
       "      <th>VACANCY_URL</th>\n",
       "    </tr>\n",
       "  </thead>\n",
       "  <tbody>\n",
       "    <tr>\n",
       "      <th>0</th>\n",
       "      <td>94354526</td>\n",
       "      <td>Стажер-разработчик Python</td>\n",
       "      <td>Додо Пицца</td>\n",
       "      <td>150000.0</td>\n",
       "      <td>Ростов-на-Дону</td>\n",
       "      <td>2024-03-06</td>\n",
       "      <td>Python</td>\n",
       "      <td>https://hh.ru/vacancy/94354526</td>\n",
       "    </tr>\n",
       "    <tr>\n",
       "      <th>1</th>\n",
       "      <td>94450348</td>\n",
       "      <td>Junior Frontend разработчик</td>\n",
       "      <td>EasyDev</td>\n",
       "      <td>60000.0</td>\n",
       "      <td>Москва</td>\n",
       "      <td>2024-03-09</td>\n",
       "      <td>Python</td>\n",
       "      <td>https://hh.ru/vacancy/94450348</td>\n",
       "    </tr>\n",
       "    <tr>\n",
       "      <th>2</th>\n",
       "      <td>94228875</td>\n",
       "      <td>Junior Frontend разработчик</td>\n",
       "      <td>MacBuildServer</td>\n",
       "      <td>50000.0</td>\n",
       "      <td>Самара</td>\n",
       "      <td>2024-03-07</td>\n",
       "      <td>Python</td>\n",
       "      <td>https://hh.ru/vacancy/94228875</td>\n",
       "    </tr>\n",
       "    <tr>\n",
       "      <th>3</th>\n",
       "      <td>94120837</td>\n",
       "      <td>Python junior разработчик</td>\n",
       "      <td>Скиллтеллект</td>\n",
       "      <td>50000.0</td>\n",
       "      <td>Санкт-Петербург</td>\n",
       "      <td>2024-03-01</td>\n",
       "      <td>Python</td>\n",
       "      <td>https://hh.ru/vacancy/94120837</td>\n",
       "    </tr>\n",
       "    <tr>\n",
       "      <th>4</th>\n",
       "      <td>94293788</td>\n",
       "      <td>Junior Python-разработчик</td>\n",
       "      <td>СОГАЗ</td>\n",
       "      <td>NaN</td>\n",
       "      <td>Москва</td>\n",
       "      <td>2024-03-06</td>\n",
       "      <td>Python</td>\n",
       "      <td>https://hh.ru/vacancy/94293788</td>\n",
       "    </tr>\n",
       "  </tbody>\n",
       "</table>\n",
       "</div>"
      ],
      "text/plain": [
       "         ID                VACANCY_TITLE    COMPANY_NAME    SALARY  \\\n",
       "0  94354526    Стажер-разработчик Python      Додо Пицца  150000.0   \n",
       "1  94450348  Junior Frontend разработчик         EasyDev   60000.0   \n",
       "2  94228875  Junior Frontend разработчик  MacBuildServer   50000.0   \n",
       "3  94120837    Python junior разработчик    Скиллтеллект   50000.0   \n",
       "4  94293788    Junior Python-разработчик           СОГАЗ       NaN   \n",
       "\n",
       "              CITY        DATE PROGRAMMING_LANGUAGE  \\\n",
       "0   Ростов-на-Дону  2024-03-06               Python   \n",
       "1           Москва  2024-03-09               Python   \n",
       "2           Самара  2024-03-07               Python   \n",
       "3  Санкт-Петербург  2024-03-01               Python   \n",
       "4           Москва  2024-03-06               Python   \n",
       "\n",
       "                      VACANCY_URL  \n",
       "0  https://hh.ru/vacancy/94354526  \n",
       "1  https://hh.ru/vacancy/94450348  \n",
       "2  https://hh.ru/vacancy/94228875  \n",
       "3  https://hh.ru/vacancy/94120837  \n",
       "4  https://hh.ru/vacancy/94293788  "
      ]
     },
     "execution_count": 11,
     "metadata": {},
     "output_type": "execute_result"
    }
   ],
   "source": [
    "df.head()"
   ]
  },
  {
   "cell_type": "code",
   "execution_count": null,
   "id": "0e36cc34-3e2b-4a97-851b-21d4b134848e",
   "metadata": {},
   "outputs": [],
   "source": []
  }
 ],
 "metadata": {
  "kernelspec": {
   "display_name": "Python 3 (ipykernel)",
   "language": "python",
   "name": "python3"
  },
  "language_info": {
   "codemirror_mode": {
    "name": "ipython",
    "version": 3
   },
   "file_extension": ".py",
   "mimetype": "text/x-python",
   "name": "python",
   "nbconvert_exporter": "python",
   "pygments_lexer": "ipython3",
   "version": "3.11.2"
  }
 },
 "nbformat": 4,
 "nbformat_minor": 5
}
